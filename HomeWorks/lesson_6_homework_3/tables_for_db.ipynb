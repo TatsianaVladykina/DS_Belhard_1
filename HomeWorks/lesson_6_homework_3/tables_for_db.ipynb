{
 "cells": [
  {
   "cell_type": "markdown",
   "metadata": {
    "id": "EHmm19k93Bhg"
   },
   "source": [
    "https://www.kaggle.com/code/kerneler/starter-international-astronaut-aa1ea028-2/input"
   ]
  },
  {
   "cell_type": "raw",
   "metadata": {},
   "source": [
    "Для создания базы данных был взят CSV-файл, содержащий данные международных астронавтов,\n",
    "\n",
    "состоящий из 6 столбцов: Name (фамилия, имя астронавта), Country (страна), Gender (пол), Flights (наименование корабля и год полета - может быть несколько значений через запятую), Total Flights (общее количество полетов, совершенных астронавтом), Total Flight Time (общее время полетов, ddd:hh:mm).\n",
    "\n",
    "В результата обработки первоначальных данных был сформирован файл Main_table.csv, фактически содержащий \"id\" четырех других файлов-словарей для полей 'Name', 'Country', 'Gender', 'Flights' (файлы Name_dictionary.csv , Country_dictionary.csv , Gender_dictionary.csv , Flights_dictionary.csv )"
   ]
  },
  {
   "cell_type": "code",
   "execution_count": null,
   "metadata": {
    "id": "6OFa2hli3Efl"
   },
   "outputs": [],
   "source": [
    "import pandas as pd"
   ]
  },
  {
   "cell_type": "code",
   "execution_count": null,
   "metadata": {
    "colab": {
     "base_uri": "https://localhost:8080/"
    },
    "executionInfo": {
     "elapsed": 2204,
     "status": "ok",
     "timestamp": 1729105252879,
     "user": {
      "displayName": "Tatsiana Vladykina",
      "userId": "08995857403999975504"
     },
     "user_tz": -180
    },
    "id": "6XSDlGnL4bZZ",
    "outputId": "cee7fe18-7530-4ca5-cc64-e30f9d8d00d8"
   },
   "outputs": [
    {
     "name": "stdout",
     "output_type": "stream",
     "text": [
      "Drive already mounted at /content/drive; to attempt to forcibly remount, call drive.mount(\"/content/drive\", force_remount=True).\n",
      "(567, 6)\n"
     ]
    }
   ],
   "source": [
    "from google.colab import drive\n",
    "drive.mount('/content/drive')\n",
    "data = pd.read_csv('drive/MyDrive/DS_Belhard/for_hw_3/International_Astronaut_Database.csv')\n",
    "print(data.shape)"
   ]
  },
  {
   "cell_type": "code",
   "execution_count": null,
   "metadata": {
    "colab": {
     "base_uri": "https://localhost:8080/",
     "height": 206
    },
    "executionInfo": {
     "elapsed": 299,
     "status": "ok",
     "timestamp": 1729105255064,
     "user": {
      "displayName": "Tatsiana Vladykina",
      "userId": "08995857403999975504"
     },
     "user_tz": -180
    },
    "id": "6mpYm2MP6tHY",
    "outputId": "b0a3d9d5-b36f-4434-e2a6-9576b84ba00a"
   },
   "outputs": [
    {
     "data": {
      "application/vnd.google.colaboratory.intrinsic+json": {
       "summary": "{\n  \"name\": \"data\",\n  \"rows\": 567,\n  \"fields\": [\n    {\n      \"column\": \"Name\",\n      \"properties\": {\n        \"dtype\": \"string\",\n        \"num_unique_values\": 567,\n        \"samples\": [\n          \"William Oefelein\",\n          \"Vladimir Titov\",\n          \"John Grunsfeld\"\n        ],\n        \"semantic_type\": \"\",\n        \"description\": \"\"\n      }\n    },\n    {\n      \"column\": \"Country\",\n      \"properties\": {\n        \"dtype\": \"category\",\n        \"num_unique_values\": 42,\n        \"samples\": [\n          \"Israel\",\n          \"Canada\",\n          \"Netherlands\"\n        ],\n        \"semantic_type\": \"\",\n        \"description\": \"\"\n      }\n    },\n    {\n      \"column\": \"Gender\",\n      \"properties\": {\n        \"dtype\": \"category\",\n        \"num_unique_values\": 2,\n        \"samples\": [\n          \"Woman\",\n          \"Man\"\n        ],\n        \"semantic_type\": \"\",\n        \"description\": \"\"\n      }\n    },\n    {\n      \"column\": \"Flights\",\n      \"properties\": {\n        \"dtype\": \"string\",\n        \"num_unique_values\": 509,\n        \"samples\": [\n          \"Soyuz TMA-10 (2007), Soyuz TMA-14 (2009)\",\n          \"STS-71 (1995), Soyuz TM-27 (1998), STS-113 (2002)\"\n        ],\n        \"semantic_type\": \"\",\n        \"description\": \"\"\n      }\n    },\n    {\n      \"column\": \"Total Flights\",\n      \"properties\": {\n        \"dtype\": \"number\",\n        \"std\": 1,\n        \"min\": 1,\n        \"max\": 7,\n        \"num_unique_values\": 7,\n        \"samples\": [\n          1,\n          2\n        ],\n        \"semantic_type\": \"\",\n        \"description\": \"\"\n      }\n    },\n    {\n      \"column\": \"Total Flight Time (ddd:hh:mm)\",\n      \"properties\": {\n        \"dtype\": \"string\",\n        \"num_unique_values\": 511,\n        \"samples\": [\n          \"007:20:41\",\n          \"026:17:38\"\n        ],\n        \"semantic_type\": \"\",\n        \"description\": \"\"\n      }\n    }\n  ]\n}",
       "type": "dataframe",
       "variable_name": "data"
      },
      "text/html": [
       "\n",
       "  <div id=\"df-9c3ad069-1888-46fa-8ba1-d61c1c8393cb\" class=\"colab-df-container\">\n",
       "    <div>\n",
       "<style scoped>\n",
       "    .dataframe tbody tr th:only-of-type {\n",
       "        vertical-align: middle;\n",
       "    }\n",
       "\n",
       "    .dataframe tbody tr th {\n",
       "        vertical-align: top;\n",
       "    }\n",
       "\n",
       "    .dataframe thead th {\n",
       "        text-align: right;\n",
       "    }\n",
       "</style>\n",
       "<table border=\"1\" class=\"dataframe\">\n",
       "  <thead>\n",
       "    <tr style=\"text-align: right;\">\n",
       "      <th></th>\n",
       "      <th>Name</th>\n",
       "      <th>Country</th>\n",
       "      <th>Gender</th>\n",
       "      <th>Flights</th>\n",
       "      <th>Total Flights</th>\n",
       "      <th>Total Flight Time (ddd:hh:mm)</th>\n",
       "    </tr>\n",
       "  </thead>\n",
       "  <tbody>\n",
       "    <tr>\n",
       "      <th>0</th>\n",
       "      <td>Abdul Ahad Mohmand</td>\n",
       "      <td>Afghanistan</td>\n",
       "      <td>Man</td>\n",
       "      <td>Soyuz TM-6 (1988)</td>\n",
       "      <td>1</td>\n",
       "      <td>008:20:26</td>\n",
       "    </tr>\n",
       "    <tr>\n",
       "      <th>1</th>\n",
       "      <td>Akihiko Hoshide</td>\n",
       "      <td>Japan</td>\n",
       "      <td>Man</td>\n",
       "      <td>STS-124 (2008), Soyuz TMA-05M (2012)</td>\n",
       "      <td>2</td>\n",
       "      <td>140:17:26</td>\n",
       "    </tr>\n",
       "    <tr>\n",
       "      <th>2</th>\n",
       "      <td>Alan Bean</td>\n",
       "      <td>United States</td>\n",
       "      <td>Man</td>\n",
       "      <td>Apollo 12 (1969), Skylab 3 (1973)</td>\n",
       "      <td>2</td>\n",
       "      <td>069:15:45</td>\n",
       "    </tr>\n",
       "    <tr>\n",
       "      <th>3</th>\n",
       "      <td>Alan G. Poindexter</td>\n",
       "      <td>United States</td>\n",
       "      <td>Man</td>\n",
       "      <td>STS-122 (2008), STS-131 (2010)</td>\n",
       "      <td>2</td>\n",
       "      <td>027:21:09</td>\n",
       "    </tr>\n",
       "    <tr>\n",
       "      <th>4</th>\n",
       "      <td>Alan Shepard</td>\n",
       "      <td>United States</td>\n",
       "      <td>Man</td>\n",
       "      <td>Mercury-Redstone 3 (1961), Apollo 14 (1971)</td>\n",
       "      <td>2</td>\n",
       "      <td>009:00:17</td>\n",
       "    </tr>\n",
       "  </tbody>\n",
       "</table>\n",
       "</div>\n",
       "    <div class=\"colab-df-buttons\">\n",
       "\n",
       "  <div class=\"colab-df-container\">\n",
       "    <button class=\"colab-df-convert\" onclick=\"convertToInteractive('df-9c3ad069-1888-46fa-8ba1-d61c1c8393cb')\"\n",
       "            title=\"Convert this dataframe to an interactive table.\"\n",
       "            style=\"display:none;\">\n",
       "\n",
       "  <svg xmlns=\"http://www.w3.org/2000/svg\" height=\"24px\" viewBox=\"0 -960 960 960\">\n",
       "    <path d=\"M120-120v-720h720v720H120Zm60-500h600v-160H180v160Zm220 220h160v-160H400v160Zm0 220h160v-160H400v160ZM180-400h160v-160H180v160Zm440 0h160v-160H620v160ZM180-180h160v-160H180v160Zm440 0h160v-160H620v160Z\"/>\n",
       "  </svg>\n",
       "    </button>\n",
       "\n",
       "  <style>\n",
       "    .colab-df-container {\n",
       "      display:flex;\n",
       "      gap: 12px;\n",
       "    }\n",
       "\n",
       "    .colab-df-convert {\n",
       "      background-color: #E8F0FE;\n",
       "      border: none;\n",
       "      border-radius: 50%;\n",
       "      cursor: pointer;\n",
       "      display: none;\n",
       "      fill: #1967D2;\n",
       "      height: 32px;\n",
       "      padding: 0 0 0 0;\n",
       "      width: 32px;\n",
       "    }\n",
       "\n",
       "    .colab-df-convert:hover {\n",
       "      background-color: #E2EBFA;\n",
       "      box-shadow: 0px 1px 2px rgba(60, 64, 67, 0.3), 0px 1px 3px 1px rgba(60, 64, 67, 0.15);\n",
       "      fill: #174EA6;\n",
       "    }\n",
       "\n",
       "    .colab-df-buttons div {\n",
       "      margin-bottom: 4px;\n",
       "    }\n",
       "\n",
       "    [theme=dark] .colab-df-convert {\n",
       "      background-color: #3B4455;\n",
       "      fill: #D2E3FC;\n",
       "    }\n",
       "\n",
       "    [theme=dark] .colab-df-convert:hover {\n",
       "      background-color: #434B5C;\n",
       "      box-shadow: 0px 1px 3px 1px rgba(0, 0, 0, 0.15);\n",
       "      filter: drop-shadow(0px 1px 2px rgba(0, 0, 0, 0.3));\n",
       "      fill: #FFFFFF;\n",
       "    }\n",
       "  </style>\n",
       "\n",
       "    <script>\n",
       "      const buttonEl =\n",
       "        document.querySelector('#df-9c3ad069-1888-46fa-8ba1-d61c1c8393cb button.colab-df-convert');\n",
       "      buttonEl.style.display =\n",
       "        google.colab.kernel.accessAllowed ? 'block' : 'none';\n",
       "\n",
       "      async function convertToInteractive(key) {\n",
       "        const element = document.querySelector('#df-9c3ad069-1888-46fa-8ba1-d61c1c8393cb');\n",
       "        const dataTable =\n",
       "          await google.colab.kernel.invokeFunction('convertToInteractive',\n",
       "                                                    [key], {});\n",
       "        if (!dataTable) return;\n",
       "\n",
       "        const docLinkHtml = 'Like what you see? Visit the ' +\n",
       "          '<a target=\"_blank\" href=https://colab.research.google.com/notebooks/data_table.ipynb>data table notebook</a>'\n",
       "          + ' to learn more about interactive tables.';\n",
       "        element.innerHTML = '';\n",
       "        dataTable['output_type'] = 'display_data';\n",
       "        await google.colab.output.renderOutput(dataTable, element);\n",
       "        const docLink = document.createElement('div');\n",
       "        docLink.innerHTML = docLinkHtml;\n",
       "        element.appendChild(docLink);\n",
       "      }\n",
       "    </script>\n",
       "  </div>\n",
       "\n",
       "\n",
       "<div id=\"df-af801b16-a576-44a1-880e-173d8cf7729c\">\n",
       "  <button class=\"colab-df-quickchart\" onclick=\"quickchart('df-af801b16-a576-44a1-880e-173d8cf7729c')\"\n",
       "            title=\"Suggest charts\"\n",
       "            style=\"display:none;\">\n",
       "\n",
       "<svg xmlns=\"http://www.w3.org/2000/svg\" height=\"24px\"viewBox=\"0 0 24 24\"\n",
       "     width=\"24px\">\n",
       "    <g>\n",
       "        <path d=\"M19 3H5c-1.1 0-2 .9-2 2v14c0 1.1.9 2 2 2h14c1.1 0 2-.9 2-2V5c0-1.1-.9-2-2-2zM9 17H7v-7h2v7zm4 0h-2V7h2v10zm4 0h-2v-4h2v4z\"/>\n",
       "    </g>\n",
       "</svg>\n",
       "  </button>\n",
       "\n",
       "<style>\n",
       "  .colab-df-quickchart {\n",
       "      --bg-color: #E8F0FE;\n",
       "      --fill-color: #1967D2;\n",
       "      --hover-bg-color: #E2EBFA;\n",
       "      --hover-fill-color: #174EA6;\n",
       "      --disabled-fill-color: #AAA;\n",
       "      --disabled-bg-color: #DDD;\n",
       "  }\n",
       "\n",
       "  [theme=dark] .colab-df-quickchart {\n",
       "      --bg-color: #3B4455;\n",
       "      --fill-color: #D2E3FC;\n",
       "      --hover-bg-color: #434B5C;\n",
       "      --hover-fill-color: #FFFFFF;\n",
       "      --disabled-bg-color: #3B4455;\n",
       "      --disabled-fill-color: #666;\n",
       "  }\n",
       "\n",
       "  .colab-df-quickchart {\n",
       "    background-color: var(--bg-color);\n",
       "    border: none;\n",
       "    border-radius: 50%;\n",
       "    cursor: pointer;\n",
       "    display: none;\n",
       "    fill: var(--fill-color);\n",
       "    height: 32px;\n",
       "    padding: 0;\n",
       "    width: 32px;\n",
       "  }\n",
       "\n",
       "  .colab-df-quickchart:hover {\n",
       "    background-color: var(--hover-bg-color);\n",
       "    box-shadow: 0 1px 2px rgba(60, 64, 67, 0.3), 0 1px 3px 1px rgba(60, 64, 67, 0.15);\n",
       "    fill: var(--button-hover-fill-color);\n",
       "  }\n",
       "\n",
       "  .colab-df-quickchart-complete:disabled,\n",
       "  .colab-df-quickchart-complete:disabled:hover {\n",
       "    background-color: var(--disabled-bg-color);\n",
       "    fill: var(--disabled-fill-color);\n",
       "    box-shadow: none;\n",
       "  }\n",
       "\n",
       "  .colab-df-spinner {\n",
       "    border: 2px solid var(--fill-color);\n",
       "    border-color: transparent;\n",
       "    border-bottom-color: var(--fill-color);\n",
       "    animation:\n",
       "      spin 1s steps(1) infinite;\n",
       "  }\n",
       "\n",
       "  @keyframes spin {\n",
       "    0% {\n",
       "      border-color: transparent;\n",
       "      border-bottom-color: var(--fill-color);\n",
       "      border-left-color: var(--fill-color);\n",
       "    }\n",
       "    20% {\n",
       "      border-color: transparent;\n",
       "      border-left-color: var(--fill-color);\n",
       "      border-top-color: var(--fill-color);\n",
       "    }\n",
       "    30% {\n",
       "      border-color: transparent;\n",
       "      border-left-color: var(--fill-color);\n",
       "      border-top-color: var(--fill-color);\n",
       "      border-right-color: var(--fill-color);\n",
       "    }\n",
       "    40% {\n",
       "      border-color: transparent;\n",
       "      border-right-color: var(--fill-color);\n",
       "      border-top-color: var(--fill-color);\n",
       "    }\n",
       "    60% {\n",
       "      border-color: transparent;\n",
       "      border-right-color: var(--fill-color);\n",
       "    }\n",
       "    80% {\n",
       "      border-color: transparent;\n",
       "      border-right-color: var(--fill-color);\n",
       "      border-bottom-color: var(--fill-color);\n",
       "    }\n",
       "    90% {\n",
       "      border-color: transparent;\n",
       "      border-bottom-color: var(--fill-color);\n",
       "    }\n",
       "  }\n",
       "</style>\n",
       "\n",
       "  <script>\n",
       "    async function quickchart(key) {\n",
       "      const quickchartButtonEl =\n",
       "        document.querySelector('#' + key + ' button');\n",
       "      quickchartButtonEl.disabled = true;  // To prevent multiple clicks.\n",
       "      quickchartButtonEl.classList.add('colab-df-spinner');\n",
       "      try {\n",
       "        const charts = await google.colab.kernel.invokeFunction(\n",
       "            'suggestCharts', [key], {});\n",
       "      } catch (error) {\n",
       "        console.error('Error during call to suggestCharts:', error);\n",
       "      }\n",
       "      quickchartButtonEl.classList.remove('colab-df-spinner');\n",
       "      quickchartButtonEl.classList.add('colab-df-quickchart-complete');\n",
       "    }\n",
       "    (() => {\n",
       "      let quickchartButtonEl =\n",
       "        document.querySelector('#df-af801b16-a576-44a1-880e-173d8cf7729c button');\n",
       "      quickchartButtonEl.style.display =\n",
       "        google.colab.kernel.accessAllowed ? 'block' : 'none';\n",
       "    })();\n",
       "  </script>\n",
       "</div>\n",
       "    </div>\n",
       "  </div>\n"
      ],
      "text/plain": [
       "                 Name        Country Gender  \\\n",
       "0  Abdul Ahad Mohmand    Afghanistan    Man   \n",
       "1     Akihiko Hoshide          Japan    Man   \n",
       "2           Alan Bean  United States    Man   \n",
       "3  Alan G. Poindexter  United States    Man   \n",
       "4        Alan Shepard  United States    Man   \n",
       "\n",
       "                                       Flights  Total Flights  \\\n",
       "0                            Soyuz TM-6 (1988)              1   \n",
       "1         STS-124 (2008), Soyuz TMA-05M (2012)              2   \n",
       "2            Apollo 12 (1969), Skylab 3 (1973)              2   \n",
       "3               STS-122 (2008), STS-131 (2010)              2   \n",
       "4  Mercury-Redstone 3 (1961), Apollo 14 (1971)              2   \n",
       "\n",
       "  Total Flight Time (ddd:hh:mm)  \n",
       "0                     008:20:26  \n",
       "1                     140:17:26  \n",
       "2                     069:15:45  \n",
       "3                     027:21:09  \n",
       "4                     009:00:17  "
      ]
     },
     "execution_count": 27,
     "metadata": {},
     "output_type": "execute_result"
    }
   ],
   "source": [
    "# вывод данных в формате таблицы\n",
    "data.head()"
   ]
  },
  {
   "cell_type": "code",
   "execution_count": null,
   "metadata": {
    "colab": {
     "base_uri": "https://localhost:8080/"
    },
    "executionInfo": {
     "elapsed": 283,
     "status": "ok",
     "timestamp": 1729105257678,
     "user": {
      "displayName": "Tatsiana Vladykina",
      "userId": "08995857403999975504"
     },
     "user_tz": -180
    },
    "id": "X7u0Wjav6v7w",
    "outputId": "76ba7256-33fb-4976-bc3c-d89ec4f03a75"
   },
   "outputs": [
    {
     "name": "stdout",
     "output_type": "stream",
     "text": [
      "<class 'pandas.core.frame.DataFrame'>\n",
      "RangeIndex: 567 entries, 0 to 566\n",
      "Data columns (total 6 columns):\n",
      " #   Column                         Non-Null Count  Dtype \n",
      "---  ------                         --------------  ----- \n",
      " 0   Name                           567 non-null    object\n",
      " 1   Country                        567 non-null    object\n",
      " 2   Gender                         567 non-null    object\n",
      " 3   Flights                        567 non-null    object\n",
      " 4   Total Flights                  567 non-null    int64 \n",
      " 5   Total Flight Time (ddd:hh:mm)  567 non-null    object\n",
      "dtypes: int64(1), object(5)\n",
      "memory usage: 26.7+ KB\n"
     ]
    }
   ],
   "source": [
    "data.info()"
   ]
  },
  {
   "cell_type": "code",
   "execution_count": null,
   "metadata": {
    "colab": {
     "base_uri": "https://localhost:8080/"
    },
    "executionInfo": {
     "elapsed": 351,
     "status": "ok",
     "timestamp": 1729105260381,
     "user": {
      "displayName": "Tatsiana Vladykina",
      "userId": "08995857403999975504"
     },
     "user_tz": -180
    },
    "id": "XKaY3I7M7L-R",
    "outputId": "cf5df79c-d2ab-4803-f0e2-fdc958511605"
   },
   "outputs": [
    {
     "name": "stdout",
     "output_type": "stream",
     "text": [
      "Name                             567\n",
      "Country                           42\n",
      "Gender                             2\n",
      "Flights                          509\n",
      "Total Flights                      7\n",
      "Total Flight Time (ddd:hh:mm)    511\n",
      "dtype: int64\n"
     ]
    }
   ],
   "source": [
    "# Количество уникальных значений в каждом столбце\n",
    "unique_counts = data.nunique()\n",
    "print(unique_counts)"
   ]
  },
  {
   "cell_type": "code",
   "execution_count": null,
   "metadata": {
    "colab": {
     "base_uri": "https://localhost:8080/"
    },
    "executionInfo": {
     "elapsed": 322,
     "status": "ok",
     "timestamp": 1729105262422,
     "user": {
      "displayName": "Tatsiana Vladykina",
      "userId": "08995857403999975504"
     },
     "user_tz": -180
    },
    "id": "PGbj-_OD7igd",
    "outputId": "156c1e11-736b-43f1-e318-1c6fd8eb97ee"
   },
   "outputs": [
    {
     "name": "stdout",
     "output_type": "stream",
     "text": [
      "Столбец 'Name': ['Abdul Ahad Mohmand', 'Akihiko Hoshide', 'Alan Bean', 'Alan G. Poindexter', 'Alan Shepard', 'Albert Sacco', 'Aleksandar Panayotov Aleksandrov', 'Aleksandr Balandin', 'Aleksandr Ivanchenkov', 'Aleksandr Laveykin', 'Aleksandr Lazutkin', 'Aleksandr Misurkin', 'Aleksandr Pavlovich Aleksandrov', 'Aleksandr Samokutyayev', 'Aleksandr Serebrov', 'Aleksandr Skvortsov', 'Aleksei Gubarev', 'Aleksei Leonov', 'Aleksei Yeliseyev', 'Aleksey Ovchinin', 'Alexander Gerst', 'Alexander Kaleri', 'Alexander Poleshchuk', 'Alexander Viktorenko', 'Alexander Volkov', 'Alfred Worden', 'Anatoli Berezovoy', 'Anatoli Ivanishin', 'Anatoli Levchenko', 'Anatoly Artsebarsky', 'Anatoly Filipchenko', 'Anatoly Solovyev', 'Andreas Mogensen', 'Andrei Borisenko', 'Andrew J. Feustel', 'Andrew M. Allen', 'Andrew R. Morgan', 'Andrew Thomas', 'Andriyan Nikolayev', 'André Kuipers', 'Anna Lee Fisher, M.D.', 'Anne McClain', 'Anousheh Ansari', 'Anthony W. England', 'Anton Shkaplerov', 'Arnaldo Tamayo Méndez', 'Aydyn Aimbetov', 'B. Alvin Drew', 'Barbara Morgan', 'Barry Wilmore', 'Bernard A. Harris, Jr.', 'Bertalan Farkas', 'Bjarni Tryggvason', 'Bonnie J. Dunbar', 'Boris Morukov', 'Boris Volynov', 'Boris Yegorov, M.D.', 'Brent W. Jett, Jr.', 'Brewster Shaw', 'Brian Binnie', 'Brian Duffy', 'Bruce McCandless II', 'Bruce Melnick', \"Bryan O'Connor\", 'Buzz Aldrin', 'Byron Lichtenberg', 'Carl Meade', 'Carl Walz', 'Carlos I. Noriega', 'Catherine Coleman', 'Charles \"Pete\" Conrad', 'Charles Bolden', 'Charles Camarda', 'Charles D. Walker', 'Charles Duke', 'Charles E. Brady, Jr., M.D.', 'Charles Fullerton', 'Charles Gemar', 'Charles Hobaugh', 'Charles Precourt', 'Charles Simonyi', 'Charles Veach', 'Chen Dong', 'Chiaki Mukai, M.D.', 'Chris Hadfield', 'Christer Fuglesang', 'Christina Koch', 'Christopher Cassidy', 'Christopher Ferguson', 'Claude Nicollier', 'Claudie Haigneré, EAC', 'Clayton Anderson', 'Curtis Brown', 'Dafydd Williams, M.D.', 'Dale Gardner', 'Daniel Barry', 'Daniel Brandenstein', 'Daniel Burbank', 'Daniel Bursch', 'Daniel Tani', 'David Griggs', 'David Hilmers', 'David Leestma', 'David M. Brown', 'David M. Walker', 'David Saint-Jacques', 'David Scott', 'David Wolf, M.D.', 'Dennis Tito', 'Dick Scobee', 'Dirk Frimout', 'Dmitri Kondratyev', 'Dominic A. Antonelli', 'Dominic Gorie', 'Don Lind', 'Donald \"Deke\" Slayton', 'Donald McMonagle', 'Donald Peterson', 'Donald Pettit', 'Donald Thomas', 'Donald Williams', 'Donn F. Eisele', 'Dorothy M. Metcalf-Lindenburger', 'Douglas G. Hurley', 'Douglas Wheelock', 'Duane G. Carey', 'Dumitru Prunariu', 'Edgar Mitchell', 'Edward Gibson', 'Edward Lu', 'Edward White', 'Edwin J. Garn', 'Eileen Collins', 'Ellen Ochoa', 'Ellen S. Baker, M.D.', 'Ellison Onizuka', 'Eric A. Boe', 'Ernst Messerschmid', 'Eugene Cernan', 'Eugene Trinh', 'Evgeny Tarelkin', 'F. Drew Gaffney, M.D.', 'Fei Junlong', 'Franco Malerba', 'Frank Borman', 'Frank De Winne', 'Frank L. Culbertson, Jr.', 'Franklin Chang-Diaz', 'Franz Viehböck', 'Fred Haise', 'Frederick Gregory', 'Frederick Hauck', 'Frederick Sturckow', 'Frederick W. Leslie', 'Fyodor Yurchikhin', 'G. David Low', 'Garrett Reisman', 'Gary Payton', 'Gennadi Manakov', 'Gennadi Sarafanov', 'Gennady Padalka', 'Gennady Strekalov', 'George D. Zamka', 'George Nelson', 'Georgi Beregovoi', 'Georgi Dobrovolski', 'Georgi Grechko', 'Georgi Ivanov', 'Georgi Shonin', 'Gerald P. Carr', 'Gerhard Thiele', 'Gherman Titov', 'Gregory B. Jarvis', 'Gregory C. Johnson', 'Gregory Chamitoff', 'Gregory H. Johnson', 'Gregory Harbaugh', 'Gregory Linteris', 'Gregory Olsen', 'Gregory R. Wiseman', 'Guion Bluford', 'Guy Gardner', 'Guy Laliberté', 'Hans Schlegel', 'Harrison Schmitt', 'Hazza Al Mansouri', 'Heidemarie Stefanyshyn-Piper', 'Helen Sharman', 'Henry Hartsfield', 'Igor Volk', 'Ilan Ramon', 'Ivan Bella', 'Ivan Vagner', 'Jack D. Fischer', 'Jack Lousma', 'James \"Ox\" van Hoften', 'James Adamson', 'James Buchli', 'James Dutton', 'James F. Reilly', 'James H. Newman', 'James Halsell', 'James Irwin', 'James M. Kelly', 'James McDivitt', 'James P. Bagian, M.D.', 'James Pawelczyk', 'James Voss', 'James Wetherbee', 'Janet L. Kavandi', 'Janice Voss', 'Jay C. Buckey, M.D.', 'Jean-François Clervoy, EAC', 'Jean-Jacques Favier', 'Jean-Loup Chrétien', 'Jean-Pierre Haigneré, EAC', 'Jeffrey Ashby', 'Jeffrey Hoffman', 'Jeffrey Williams', 'Jerome Apt', 'Jerry L. Ross', 'Jerry Linenger', 'Jessica Meir', 'Jim Lovell', 'Jing Haipeng', 'Joan Higginbotham', 'Joe Edwards', 'Joe H. Engle', 'John \"Jack\" Swigert', 'John Blaha', 'John Casper', 'John D. Olivas', 'John Fabian', 'John Glenn', 'John Grunsfeld', 'John Herrington', 'John Lounge', 'John O. Creighton', 'John Phillips', 'John Young', 'John-David F. Bartoe', 'Jon McBride', 'Joseph A. Walker', 'Joseph Kerwin, M.D.', 'Joseph M. Acaba', 'Joseph P. Allen', 'Joseph Tanner', 'José Hernández', 'Judith Resnik', 'Julie Payette', 'Jügderdemidiin Gürragchaa', 'K. Megan McArthur', 'Kalpana Chawla', 'Karen Nyberg', 'Karl Henize', 'Karol Bobko', 'Kathleen Rubins', 'Kathryn Hire', 'Kathryn Sullivan', 'Kathryn Thornton', 'Kenneth Bowersox', 'Kenneth Cockrell', 'Kenneth D. Cameron', 'Kenneth Ham', 'Kenneth Reightler', 'Kent Rominger', 'Kevin A. Ford', 'Kevin Kregel', 'Kevin P. Chilton', 'Kimiya Yui', 'Kjell N. Lindgren', 'Klaus-Dietrich Flade', 'Koichi Wakata', 'Konstantin Feoktistov', 'Konstantin Kozeyev', 'L. Gordon Cooper, Jr.', 'Laurel B. Clark, M.D.', 'Lawrence J. DeLucas', 'Lee Archambault', 'Lee Morin', 'Leland D. Melvin', 'Leonid Kadeniuk', 'Leonid Kizim', 'Leonid Popov', 'Leroy Chiao', 'Lev Dyomin', 'Linda Godwin', 'Lisa Nowak', 'Liu Boming', 'Liu Wang', 'Liu Yang', 'Lloyd Hammond', 'Lodewijk van den Berg', 'Loren Acton', 'Loren Shriver', 'Luca Parmitano', 'Léopold Eyharts, EAC', 'Mae Jemison, M.D.', 'Maksim Surayev', 'Mamoru Mohri', 'Marc Garneau', 'Marcos Pontes', 'Mario Runco, Jr.', 'Mark Brown', 'Mark C. Lee', 'Mark Kelly', 'Mark Polansky', 'Mark Shuttleworth', 'Mark Vande Hei', 'Marsha Ivins', 'Martin J. Fettman', 'Mary Ellen Weber', 'Mary L. Cleave', 'Maurizio Cheli', 'Michael Baker', 'Michael Coats', 'Michael Collins', 'Michael Fincke', 'Michael Foale', 'Michael Foreman', 'Michael Fossum', 'Michael Gernhardt', 'Michael J. Bloomfield', 'Michael J. McCulley', 'Michael J. Smith', 'Michael Lopez-Alegria', 'Michael Massimino', 'Michael Melvill', 'Michael P. Anderson', 'Michael R. Barratt, M.D.', 'Michael R. Clifford', 'Michael S. Hopkins', 'Michael T. Good', 'Michel Tognini, EAC', 'Mikhail Korniyenko', 'Mikhail Tyurin', 'Millie Hughes-Fulford', 'Miroslaw Hermaszewski', 'Muhammed Faris', 'Musa Manarov', 'Nancy J. Currie', 'Nancy Jan Davis', 'Naoko Yamazaki', 'Neil Armstrong', 'Nicholas Patrick', 'Nick Hague', 'Nicole Marie Passonno Stott', 'Nikolai Budarin', 'Nikolay Rukavishnikov', 'Niè Hǎishèng', 'Norishige Kanai', 'Norman Thagard, M.D.', 'Oleg Artemyev', 'Oleg Atkov', 'Oleg Kononenko', 'Oleg Kotov', 'Oleg Makarov', 'Oleg Novitskiy', 'Oleg Skripochka', 'Owen Garriott', 'Pamela Melroy', 'Paolo A. Nespoli', 'Patrick Baudry', 'Patrick Forrester', 'Paul Lockhart', 'Paul Scully-Power', 'Paul W. Richards', 'Paul Weitz', 'Pavel Belyayev', 'Pavel Popovich', 'Pavel Vinogradov', 'Pedro Duque', 'Peggy Whitson', 'Peter Wisoff', 'Petr Klimuk', 'Philippe Perrin, EAC', 'Phạm Tuân', 'Pierre Thuot', 'Piers Sellers', 'Rakesh Sharma', 'Randolph Bresnik', 'Reinhard Furrer', 'Reinhold Ewald', 'Rex Walheim', 'Rhea Seddon, M.D.', 'Richard Garriott', 'Richard Gordon', 'Richard Hieb', 'Richard Linnehan', 'Richard Mastracchio', 'Richard Mullane', 'Richard N. Richards', 'Richard O. Covey', 'Richard R. Arnold', 'Richard Searfoss', 'Richard Truly', 'Rick Husband', 'Robert Crippen', 'Robert Curbeam', 'Robert D. Cabana', 'Robert J. Cenker', 'Robert L. Behnken', 'Robert L. Gibson', 'Robert Overmyer', 'Robert Parker', 'Robert S. Kimbrough', 'Robert Satcher, M.D.', 'Robert Springer', 'Robert Stewart', 'Robert Thirsk, M.D.', 'Roberta Bondar, M.D.', 'Roberto Vittori', 'Rodolfo Neri Vela', 'Roger K. Crouch', 'Roman Romanenko', 'Ronald A. Parise', 'Ronald Evans', 'Ronald Garan', 'Ronald Grabe', 'Ronald McNair', 'Ronald Sega', 'Roy Bridges', 'Rusty Schweickart', 'S. Christa McAuliffe', 'Salizhan Sharipov', 'Sally Ride', 'Samantha Cristoforetti', 'Samuel T. Durrance', 'Sandra Magnus', 'Satoshi Furukawa', 'Scott Altman', 'Scott Carpenter', 'Scott D. Tingle', 'Scott Horowitz', 'Scott Kelly', 'Scott Parazynski, M.D.', 'Serena Auñón-Chancellor', 'Sergei Avdeyev', 'Sergei Krikalev', 'Sergei Revin', 'Sergei Ryazanski', 'Sergei Treshchov', 'Sergei Zalyotin', 'Sergey Nikolayevich Ryzhikov', 'Sergey Prokopyev', 'Sergey Volkov', 'Shannon Lucid', 'Shannon Walker', 'Sheikh Muszaphar Shukor, M.D.', 'Sherwood Spring', 'Sidney Gutierrez', 'Sigmund Jähn', 'Soichi Noguchi', 'Sonny Carter, M.D.', 'Stanley G. Love', 'Stephanie Wilson', 'Stephen Frick', 'Stephen G. Bowen', 'Stephen Oswald', 'Stephen Robinson', 'Steven Hawley', 'Steven Lindsey', 'Steven MacLean', 'Steven R. Nagel', 'Steven Smith', 'Steven Swanson', 'Story Musgrave, M.D.', 'Stuart Roosa', 'Sultan bin Salman bin Abdulaziz Al Saud', 'Sunita \"Suni\" Williams', 'Susan Helms', 'Susan Still Kilrain', 'Svetlana Savitskaya', 'Takao Doi', 'Takuya Onishi', 'Talgat Musabayev', 'Tamara E. Jernigan', 'Taylor Wang', 'Terence Henricks', 'Terrence Wilcutt', 'Terry Hart', 'Terry Virts', 'Thomas Akers', 'Thomas D. Jones', 'Thomas Hennen', 'Thomas Kenneth \"Ken\" Mattingly II', 'Thomas Marshburn, M.D.', 'Thomas Patten Stafford', 'Thomas Pesquet', 'Thomas Reiter', 'Timothy Creamer', 'Timothy L. Kopra', 'Timothy Peake', 'Toktar Aubakirov', 'Tracy Caldwell Dyson', 'Ulf Merbold', 'Ulrich Walter', 'Umberto Guidoni', 'Valentin Lebedev', 'Valentina Tereshkova', 'Valeri Kubasov', 'Valeri Polyakov, M.D.', 'Valery Bykovsky', 'Valery Korzun', 'Valery Rozhdestvensky', 'Valery Ryumin', 'Valery Tokarev', 'Vance Brand', 'Vasili Lazarev', 'Vasili Tsibliyev', 'Viktor Gorbatko', 'Viktor M. Afanasyev', 'Viktor Patsayev', 'Viktor Savinykh', 'Virgil I. \"Gus\" Grissom', 'Vitali Sevastyanov', 'Vitaliy Zholobov', 'Vladimir Aksyonov', 'Vladimir Dzhanibekov', 'Vladimir Komarov', 'Vladimir Kovalyonok', 'Vladimir Lyakhov', 'Vladimir N. Dezhurov', 'Vladimir Shatalov', 'Vladimir Solovyov', 'Vladimir Titov', 'Vladimir Vasyutin', 'Vladimír Remek', 'Vladislav Volkov', 'Vyacheslav Zudov', 'Walter Cunningham', 'Walter Schirra', 'Wang Yaping', 'Wendy Lawrence', 'William Anders', 'William B. Lenoir', 'William C. McCool', 'William E. Thornton, M.D.', 'William Frederick Fisher, M.D.', 'William Gregory', 'William Oefelein', 'William Pailes', 'William Pogue', 'William Readdy', 'William S. McArthur', 'William Shepherd', 'Winston Scott', 'Wubbo Ockels', 'Yang Liwei', 'Yelena Kondakova', 'Yelena Serova', 'Yevgeny Khrunov', 'Yi So-yeon', 'Yuri Artyukhin', 'Yuri Baturin', 'Yuri Gagarin', 'Yuri Gidzenko', 'Yuri Glazkov', 'Yuri Lonchakov', 'Yuri Malenchenko', 'Yuri Malyshev', 'Yuri Onufrienko', 'Yuri Romanenko', 'Yuri Shargin', 'Yury Usachov', 'Zhai Zhigang', 'Zhang Xiaoguang']\n",
      "Столбец 'Country': ['Afghanistan', 'Japan', 'United States', 'Bulgaria', 'Soviet Union', 'Russia', 'Germany', 'Denmark', 'Netherlands', 'Iran', 'Cuba', 'Kazakhstan', 'Hungary', 'Canada', 'Peru', 'China', 'Sweden', 'Switzerland', 'France', 'Belgium', 'Romania', 'Italy', 'Austria', 'United Arab Emirates', 'United Kingdom', 'Israel', 'Slovakia', 'Mongolia', 'Ukraine', 'Brazil', 'South Africa', 'Poland', 'Syria', 'Spain', 'Vietnam', 'India', 'Mexico', 'Malaysia', 'East Germany', 'Saudi Arabia', 'Czechoslovakia', 'South Korea']\n",
      "Столбец 'Gender': ['Man', 'Woman']\n",
      "Столбец 'Flights': ['Soyuz TM-6 (1988)', 'STS-124 (2008), Soyuz TMA-05M (2012)', 'Apollo 12 (1969), Skylab 3 (1973)', 'STS-122 (2008), STS-131 (2010)', 'Mercury-Redstone 3 (1961), Apollo 14 (1971)', 'STS-73 (1995)', 'Soyuz TM-5 (1988)', 'Soyuz TM-9 (1990)', 'Soyuz 29 (1978)', 'Soyuz TM-2 (1987)', 'Soyuz TM-25 (1997)', 'Soyuz TMA-08M (2013), Soyuz MS-06 (2017)', 'Soyuz T-9 (1983), Soyuz TM-3 (1987)', 'Soyuz TMA-21 (2011), Soyuz TMA-14M (2014)', 'Soyuz T-7 (1982), Soyuz T-8 (1983), Soyuz TM-8 (1989), Soyuz TM-17 (1993)', 'Soyuz TMA-18 (2010), Soyuz TMA-12M (2014), Soyuz MS-13 (2019)', 'Soyuz 17 (1975), Soyuz 28 (1978)', 'Voskhod 2 (1965), Soyuz 19 (1975)', 'Soyuz 5 (1969), Soyuz 8 (1969), Soyuz 10 (1971)', 'Soyuz TMA-20M (2016), Soyuz MS-12 (2019)', 'Soyuz TMA-13M (2014), Soyuz MS-09 (2018)', 'Soyuz TM-14 (1992), Soyuz TM-24 (1996), Soyuz TM-30 (2000), Soyuz TMA-3 (2003), Soyuz TMA-01M (2010)', 'Soyuz TM-16 (1993)', 'Soyuz TM-3 (1987), Soyuz TM-8 (1989), Soyuz TM-14 (1992), Soyuz TM-20 (1994)', 'Soyuz T-14 (1985), Soyuz TM-7 (1988), Soyuz TM-13 (1991)', 'Apollo 15 (1971)', 'Soyuz T-5 (1982)', 'Soyuz TMA-22 (2011), Soyuz MS-01 (2016), Soyuz MS-16 (2020)', 'Soyuz TM-4 (1987)', 'Soyuz TM-12 (1991)', 'Soyuz 7 (1969), Soyuz 16 (1974)', 'Soyuz TM-5 (1988), Soyuz TM-9 (1990), Soyuz TM-15 (1992), STS-71 (1995), Soyuz TM-26 (1997)', 'Soyuz TMA-18M (2015)', 'Soyuz TMA-21 (2011), Soyuz MS-02 (2016)', 'STS-125 (2009), STS-134 (2011), Soyuz MS-08 (2018)', 'STS-46 (1992), STS-62 (1994), STS-75 (1996)', 'Soyuz MS-13 (2019)', 'STS-77 (1996), STS-89 (1998), STS-102 (2001), STS-114 (2005)', 'Vostok 3 (1962), Soyuz 9 (1970)', 'Soyuz TMA-4 (2004), Soyuz TMA-03M (2011)', 'STS-51-A (1984)', 'Soyuz MS-11 (2018)', 'Soyuz TMA-9 (2006)', 'STS-51-F (1985)', 'Soyuz TMA-22 (2011), Soyuz TMA-15M (2014), Soyuz MS-07 (2017)', 'Soyuz 38 (1980)', 'STS-118 (2007), STS-133 (2011)', 'STS-118 (2007)', 'STS-129 (2009), Soyuz TMA-14M (2014)', 'STS-55 (1993), STS-63 (1995)', 'Soyuz 36 (1980)', 'STS-85 (1997)', 'STS-61-A (1985), STS-32 (1990), STS-50 (1992), STS-71 (1995), STS-89 (1998)', 'STS-106 (2000)', 'Soyuz 5 (1969), Soyuz 21 (1976)', 'Voskhod 1 (1964)', 'STS-72 (1996), STS-81 (1997), STS-97 (2000), STS-115 (2006)', 'STS-9 (1983), STS-61-B (1985), STS-28 (1989)', 'SpaceShipOne flight 17P (2004)', 'STS-45 (1992), STS-57 (1993), STS-72 (1996), STS-92 (2000)', 'STS-41-B (1984), STS-31 (1990)', 'STS-41 (1990), STS-49 (1992)', 'STS-61-B (1985), STS-40 (1991)', 'Gemini 12 (1966), Apollo 11 (1969)', 'STS-9 (1983), STS-45 (1992)', 'STS-38 (1990), STS-50 (1992), STS-64 (1994)', 'STS-51 (1993), STS-65 (1994), STS-79 (1996), STS-108 (2001)', 'STS-84 (1997), STS-97 (2000)', 'STS-73 (1995), STS-93 (1999), Soyuz TMA-20 (2010)', 'Gemini 5 (1965), Gemini 11 (1966), Apollo 12 (1969), Skylab 2 (1973)', 'STS-61-C (1986), STS-31 (1990), STS-45 (1992), STS-60 (1994)', 'STS-114 (2005)', 'STS-41-D (1984), STS-51-D (1985), STS-61-B (1985)', 'Apollo 16 (1972)', 'STS-78 (1996)', 'STS-3 (1982), STS-51-F (1985)', 'STS-38 (1990), STS-48 (1991), STS-62 (1994)', 'STS-104 (2001), STS-108 (2001), STS-129 (2009)', 'STS-55 (1993), STS-71 (1995), STS-84 (1997), STS-91 (1998)', 'Soyuz TMA-10 (2007), Soyuz TMA-14 (2009)', 'STS-39 (1991), STS-52 (1992)', 'Shenzhou 11 (2016)', 'STS-65 (1994), STS-95 (1998)', 'STS-74 (1995), STS-100 (2001), Soyuz TMA-07M (2012)', 'STS-116 (2006), STS-128 (2009)', 'Soyuz MS-12 (2019)', 'STS-127 (2009), Soyuz TMA-08M (2013), Soyuz MS-16 (2020)', 'STS-115 (2006), STS-126 (2008), STS-135 (2011)', 'STS-46 (1992), STS-61 (1993), STS-75 (1996), STS-103 (1999)', 'Soyuz TM-24 (1996), Soyuz TM-33 (2001)', 'STS-117 (2007), STS-131 (2010)', 'STS-47 (1992), STS-66 (1994), STS-77 (1996), STS-85 (1997), STS-95 (1998), STS-103 (1999)', 'STS-90 (1998), STS-118 (2007)', 'STS-8 (1983), STS-51-A (1984)', 'STS-72 (1996), STS-96 (1999), STS-105 (2001)', 'STS-8 (1983), STS-51-G (1985), STS-32 (1990), STS-49 (1992)', 'STS-106 (2000), STS-115 (2006), Soyuz TMA-22 (2011)', 'STS-51 (1993), STS-68 (1994), STS-77 (1996), STS-108 (2001)', 'STS-108 (2001), STS-120 (2007)', 'STS-51-D (1985)', 'STS-51-J (1985), STS-26 (1988), STS-36 (1990), STS-42 (1992)', 'STS-41-G (1984), STS-28 (1989), STS-45 (1992)', 'STS-107 (2003)', 'STS-51-A (1984), STS-30 (1989), STS-53 (1992), STS-69 (1995)', 'Gemini 8 (1966), Apollo 9 (1969), Apollo 15 (1971)', 'STS-58 (1993), STS-86 (1997), STS-112 (2002), STS-127 (2009)', 'Soyuz TM-32 (2001)', 'STS-41-C (1984)', 'STS-45 (1992)', 'Soyuz TMA-20 (2010)', 'STS-119 (2009), STS-132 (2010)', 'STS-91 (1998), STS-99 (2000), STS-108 (2001), STS-123 (2008)', 'STS-51-B (1985)', 'Apollo-Soyuz Test Project (1975)', 'STS-39 (1991), STS-54 (1993), STS-66 (1994)', 'STS-6 (1983)', 'STS-113 (2002), STS-126 (2008), Soyuz TMA-03M (2011)', 'STS-65 (1994), STS-70 (1995), STS-83 (1997), STS-94 (1997)', 'STS-51-D (1985), STS-34 (1989)', 'Apollo 7 (1968)', 'STS-131 (2010)', 'STS-127 (2009), STS-135 (2011), Crew Dragon Demo-2 (2020)', 'STS-120 (2007), Soyuz TMA-19 (2010)', 'STS-109 (2002)', 'Soyuz 40 (1981)', 'Apollo 14 (1971)', 'Skylab 4 (1973)', 'STS-84 (1997), STS-106 (2000), Soyuz TMA-2 (2003)', 'Gemini 4 (1965)', 'STS-63 (1995), STS-84 (1997), STS-93 (1999), STS-114 (2005)', 'STS-56 (1993), STS-66 (1994), STS-96 (1999), STS-110 (2002)', 'STS-34 (1989), STS-50 (1992), STS-71 (1995)', 'STS-51-C (1985)', 'STS-126 (2008), STS-133 (2011)', 'STS-61-A (1985)', 'Gemini 9A (1966), Apollo 10 (1969), Apollo 17 (1972)', 'STS-50 (1992)', 'Soyuz TMA-06M (2012)', 'STS-40 (1991)', 'Shenzhou 6 (2005)', 'STS-46 (1992)', 'Gemini 7 (1965), Apollo 8 (1968)', 'Soyuz TMA-1 (2002), Soyuz TMA-15 (2009)', 'STS-38 (1990), STS-51 (1993), STS-105 (2001)', 'STS-61-C (1986), STS-34 (1989), STS-46 (1992), STS-60 (1994), STS-75 (1996), STS-91 (1998), STS-111 (2002)', 'Soyuz TM-13 (1991)', 'Apollo 13 (1970)', 'STS-51-B (1985), STS-33 (1989), STS-44 (1991)', 'STS-7 (1983), STS-51-A (1984), STS-26 (1988)', 'STS-88 (1998), STS-105 (2001), STS-117 (2007), STS-128 (2009)', 'STS-112 (2002), Soyuz TMA-10 (2007), Soyuz TMA-19 (2010), Soyuz TMA-09M (2013), Soyuz MS-04 (2017)', 'STS-32 (1990), STS-43 (1991), STS-57 (1993)', 'STS-123 (2008), STS-132 (2010)', 'Soyuz TM-10 (1990), Soyuz TM-16 (1993)', 'Soyuz 15 (1974)', 'Soyuz TM-28 (1998), Soyuz TMA-4 (2004), Soyuz TMA-14 (2009), Soyuz TMA-04M (2012), Soyuz TMA-16M (2015)', 'Soyuz T-3 (1980), Soyuz T-8 (1983), Soyuz T-11 (1984), Soyuz TM-10 (1990), Soyuz TM-21 (1995)', 'STS-120 (2007), STS-130 (2010)', 'STS-41-C (1984), STS-61-C (1986), STS-26 (1988)', 'Soyuz 3 (1968)', 'Soyuz 11 (1971)', 'Soyuz 17 (1975), Soyuz 26 (1977), Soyuz T-14 (1985)', 'Soyuz 33 (1979)', 'Soyuz 6 (1969)', 'STS-99 (2000)', 'Vostok 2 (1961)', 'STS-51-L (1986)', 'STS-125 (2009)', 'STS-124 (2008), STS-134 (2011)', 'STS-123 (2008), STS-134 (2011)', 'STS-39 (1991), STS-54 (1993), STS-71 (1995), STS-82 (1997)', 'STS-83 (1997), STS-94 (1997)', 'Soyuz TMA-7 (2005)', 'Soyuz TMA-13M (2014)', 'STS-8 (1983), STS-61-A (1985), STS-39 (1991), STS-53 (1992)', 'STS-27 (1988), STS-35 (1990)', 'Soyuz TMA-16 (2009)', 'STS-55 (1993), STS-122 (2008)', 'Apollo 17 (1972)', 'Soyuz MS-15 (2019)', 'STS-115 (2006), STS-126 (2008)', 'STS-4 (1982), STS-41-D (1984), STS-61-A (1985)', 'Soyuz T-12 (1984)', 'Soyuz TM-29 (1999)', 'Soyuz MS-16 (2020)', 'Soyuz MS-04 (2017)', 'Skylab 3 (1973), STS-3 (1982)', 'STS-41-C (1984), STS-51-I (1985)', 'STS-28 (1989), STS-43 (1991)', 'STS-51-C (1985), STS-61-A (1985), STS-29 (1989), STS-48 (1991)', 'STS-89 (1998), STS-104 (2001), STS-117 (2007)', 'STS-51 (1993), STS-69 (1995), STS-88 (1998), STS-109 (2002)', 'STS-65 (1994), STS-74 (1995), STS-83 (1997), STS-94 (1997), STS-101 (2000)', 'STS-102 (2001), STS-114 (2005)', 'Gemini 4 (1965), Apollo 9 (1969)', 'STS-29 (1989), STS-40 (1991)', 'STS-90 (1998)', 'STS-44 (1991), STS-53 (1992), STS-69 (1995), STS-101 (2000), STS-102 (2001)', 'STS-32 (1990), STS-52 (1992), STS-63 (1995), STS-86 (1997), STS-102 (2001), STS-113 (2002)', 'STS-91 (1998), STS-99 (2000), STS-104 (2001)', 'STS-57 (1993), STS-63 (1995), STS-83 (1997), STS-94 (1997), STS-99 (2000)', 'STS-66 (1994), STS-84 (1997), STS-103 (1999)', 'Soyuz T-6 (1982), Soyuz TM-7 (1988), STS-86 (1997)', 'Soyuz TM-17 (1993), Soyuz TM-29 (1999)', 'STS-93 (1999), STS-100 (2001), STS-112 (2002)', 'STS-51-D (1985), STS-35 (1990), STS-46 (1992), STS-61 (1993), STS-75 (1996)', 'STS-101 (2000), Soyuz TMA-8 (2006), Soyuz TMA-16 (2009), Soyuz TMA-20M (2016)', 'STS-37 (1991), STS-47 (1992), STS-59 (1994), STS-79 (1996)', 'STS-61-B (1985), STS-27 (1988), STS-37 (1991), STS-55 (1993), STS-74 (1995), STS-88 (1998), STS-110 (2002)', 'STS-64 (1994), STS-81 (1997)', 'Gemini 7 (1965), Gemini 12 (1966), Apollo 8 (1968), Apollo 13 (1970)', 'Shenzhou 7 (2008), Shenzhou 9 (2012), Shenzhou 11 (2016)', 'STS-116 (2006)', 'STS-89 (1998)', 'STS-2 (1981), STS-51-I (1985)', 'STS-29 (1989), STS-33 (1989), STS-43 (1991), STS-58 (1993), STS-79 (1996)', 'STS-36 (1990), STS-54 (1993), STS-62 (1994), STS-77 (1996)', 'STS-117 (2007), STS-128 (2009)', 'STS-7 (1983), STS-51-G (1985)', 'Mercury-Atlas 6 (1962), STS-95 (1998)', 'STS-67 (1995), STS-81 (1997), STS-103 (1999), STS-109 (2002), STS-125 (2009)', 'STS-113 (2002)', 'STS-51-I (1985), STS-26 (1988), STS-35 (1990)', 'STS-51-G (1985), STS-36 (1990), STS-48 (1991)', 'STS-100 (2001), Soyuz TMA-6 (2005), STS-119 (2009)', 'Gemini 3 (1965), Gemini 10 (1966), Apollo 10 (1969), Apollo 16 (1972), STS-1 (1981), STS-9 (1983)', 'STS-41-G (1984)', 'X-15 flight 90 (1963), X-15 flight 91 (1963)', 'Skylab 2 (1973)', 'STS-119 (2009), Soyuz TMA-04M (2012), Soyuz MS-06 (2017)', 'STS-5 (1982), STS-51-A (1984)', 'STS-66 (1994), STS-82 (1997), STS-97 (2000), STS-115 (2006)', 'STS-128 (2009)', 'STS-41-D (1984), STS-51-L (1986)', 'STS-96 (1999), STS-127 (2009)', 'Soyuz 39 (1981)', 'STS-87 (1997), STS-107 (2003)', 'STS-124 (2008), Soyuz TMA-09M (2013)', 'STS-6 (1983), STS-51-D (1985), STS-51-J (1985)', 'Soyuz MS-01 (2016)', 'STS-90 (1998), STS-130 (2010)', 'STS-41-G (1984), STS-31 (1990), STS-45 (1992)', 'STS-33 (1989), STS-49 (1992), STS-61 (1993), STS-73 (1995)', 'STS-50 (1992), STS-61 (1993), STS-73 (1995), STS-82 (1997), STS-113 (2002)', 'STS-56 (1993), STS-69 (1995), STS-80 (1996), STS-98 (2001), STS-111 (2002)', 'STS-37 (1991), STS-56 (1993), STS-74 (1995)', 'STS-124 (2008), STS-132 (2010)', 'STS-48 (1991), STS-60 (1994)', 'STS-73 (1995), STS-80 (1996), STS-85 (1997), STS-96 (1999), STS-100 (2001)', 'STS-128 (2009), Soyuz TMA-06M (2012)', 'STS-70 (1995), STS-78 (1996), STS-87 (1997), STS-99 (2000)', 'STS-49 (1992), STS-59 (1994), STS-76 (1996)', 'Soyuz TMA-17M (2015)', 'STS-72 (1996), STS-92 (2000), STS-119 (2009), Soyuz TMA-11M (2013)', 'Soyuz TM-33 (2001)', 'Mercury-Atlas 9 (1963), Gemini 5 (1965)', 'STS-117 (2007), STS-119 (2009)', 'STS-110 (2002)', 'STS-122 (2008), STS-129 (2009)', 'STS-87 (1997)', 'Soyuz T-3 (1980), Soyuz T-10 (1984), Soyuz T-15 (1986)', 'Soyuz 35 (1980), Soyuz 40 (1981), Soyuz T-7 (1982)', 'STS-65 (1994), STS-72 (1996), STS-92 (2000), Soyuz TMA-5 (2004)', 'STS-37 (1991), STS-59 (1994), STS-76 (1996), STS-108 (2001)', 'STS-121 (2006)', 'Shenzhou 7 (2008)', 'Shenzhou 9 (2012)', 'STS-39 (1991), STS-64 (1994)', 'STS-51-C (1985), STS-31 (1990), STS-46 (1992)', 'Soyuz TMA-09M (2013), Soyuz MS-13 (2019)', 'Soyuz TM-27 (1998), STS-122 (2008)', 'STS-47 (1992)', 'Soyuz TMA-16 (2009), Soyuz TMA-13M (2014)', 'STS-47 (1992), STS-99 (2000)', 'STS-41-G (1984), STS-77 (1996), STS-97 (2000)', 'Soyuz TMA-8 (2006)', 'STS-44 (1991), STS-54 (1993), STS-77 (1996)', 'STS-28 (1989), STS-48 (1991)', 'STS-30 (1989), STS-47 (1992), STS-64 (1994), STS-82 (1997)', 'STS-108 (2001), STS-121 (2006), STS-124 (2008), STS-134 (2011)', 'STS-98 (2001), STS-116 (2006), STS-127 (2009)', 'Soyuz TM-34 (2002)', 'Soyuz MS-06 (2017)', 'STS-32 (1990), STS-46 (1992), STS-62 (1994), STS-81 (1997), STS-98 (2001)', 'STS-58 (1993)', 'STS-70 (1995), STS-101 (2000)', 'STS-61-B (1985), STS-30 (1989)', 'STS-75 (1996)', 'STS-43 (1991), STS-52 (1992), STS-68 (1994), STS-81 (1997)', 'STS-41-D (1984), STS-29 (1989), STS-39 (1991)', 'Gemini 10 (1966), Apollo 11 (1969)', 'Soyuz TMA-4 (2004), Soyuz TMA-13 (2008), STS-134 (2011)', 'STS-45 (1992), STS-56 (1993), STS-63 (1995), STS-84 (1997), STS-103 (1999), Soyuz TMA-3 (2003)', 'STS-123 (2008), STS-129 (2009)', 'STS-121 (2006), STS-124 (2008), Soyuz TMA-02M (2011)', 'STS-69 (1995), STS-83 (1997), STS-94 (1997), STS-104 (2001)', 'STS-86 (1997), STS-97 (2000), STS-110 (2002)', 'STS-34 (1989)', 'STS-73 (1995), STS-92 (2000), STS-113 (2002), Soyuz TMA-9 (2006)', 'STS-109 (2002), STS-125 (2009)', 'SpaceShipOne flight 15P (2004), SpaceShipOne flight 16P (2004)', 'STS-89 (1998), STS-107 (2003)', 'Soyuz TMA-14 (2009), STS-133 (2011)', 'STS-53 (1992), STS-59 (1994), STS-76 (1996)', 'Soyuz TMA-10M (2013)', 'STS-125 (2009), STS-132 (2010)', 'Soyuz TM-15 (1992), STS-93 (1999)', 'Soyuz TMA-18 (2010), Soyuz TMA-16M (2015)', 'STS-105 (2001), Soyuz TMA-9 (2006), Soyuz TMA-11M (2013)', 'Soyuz 30 (1978)', 'Soyuz TM-3 (1987)', 'Soyuz TM-4 (1987), Soyuz TM-11 (1990)', 'STS-57 (1993), STS-70 (1995), STS-88 (1998), STS-109 (2002)', 'STS-47 (1992), STS-60 (1994), STS-85 (1997)', 'Gemini 8 (1966), Apollo 11 (1969)', 'STS-116 (2006), STS-130 (2010)', 'STS-128 (2009), STS-133 (2011)', 'STS-71 (1995), Soyuz TM-27 (1998), STS-113 (2002)', 'Soyuz 10 (1971), Soyuz 16 (1974), Soyuz 33 (1979)', 'Shenzhou 6 (2005), Shenzhou 10 (2013)', 'Soyuz MS-07 (2017)', 'STS-7 (1983), STS-51-B (1985), STS-30 (1989), STS-42 (1992), Soyuz TM-21 (1995)', 'Soyuz TMA-12M (2014), Soyuz MS-08 (2018)', 'Soyuz T-10 (1984)', 'Soyuz TMA-12 (2008), Soyuz TMA-03M (2011), Soyuz TMA-17M (2015), Soyuz MS-11 (2018)', 'Soyuz TMA-10 (2007), Soyuz TMA-17 (2009), Soyuz TMA-10M (2013)', 'Soyuz 12 (1973), Soyuz 18-1 (1975), Soyuz 27 (1978), Soyuz T-3 (1980)', 'Soyuz TMA-06M (2012), Soyuz MS-03 (2016)', 'Soyuz TMA-01M (2010), Soyuz TMA-20M (2016), Soyuz MS-15 (2019)', 'Skylab 3 (1973), STS-9 (1983)', 'STS-92 (2000), STS-112 (2002), STS-120 (2007)', 'STS-120 (2007), Soyuz TMA-20 (2010), Soyuz MS-05 (2017)', 'STS-51-G (1985)', 'STS-105 (2001), STS-117 (2007), STS-128 (2009)', 'STS-111 (2002), STS-113 (2002)', 'STS-102 (2001)', 'Skylab 2 (1973), STS-6 (1983)', 'Voskhod 2 (1965)', 'Vostok 4 (1962), Soyuz 14 (1974)', 'Soyuz TM-26 (1997), Soyuz TMA-8 (2006), Soyuz TMA-08M (2013)', 'STS-95 (1998), Soyuz TMA-3 (2003)', 'STS-111 (2002), Soyuz TMA-11 (2007), Soyuz MS-03 (2016)', 'STS-57 (1993), STS-68 (1994), STS-81 (1997), STS-92 (2000)', 'Soyuz 13 (1973), Soyuz 18 (1975), Soyuz 30 (1978)', 'STS-111 (2002)', 'Soyuz 37 (1980)', 'STS-36 (1990), STS-49 (1992), STS-62 (1994)', 'STS-112 (2002), STS-121 (2006), STS-132 (2010)', 'Soyuz T-11 (1984)', 'STS-129 (2009), Soyuz MS-05 (2017)', 'STS-110 (2002), STS-122 (2008), STS-135 (2011)', 'STS-51-D (1985), STS-40 (1991), STS-58 (1993)', 'Soyuz TMA-13 (2008)', 'Gemini 11 (1966), Apollo 12 (1969)', 'STS-39 (1991), STS-49 (1992), STS-65 (1994)', 'STS-78 (1996), STS-90 (1998), STS-109 (2002), STS-123 (2008)', 'STS-106 (2000), STS-118 (2007), STS-131 (2010), Soyuz TMA-11M (2013)', 'STS-41-D (1984), STS-27 (1988), STS-36 (1990)', 'STS-28 (1989), STS-41 (1990), STS-50 (1992), STS-64 (1994)', 'STS-51-I (1985), STS-26 (1988), STS-38 (1990), STS-61 (1993)', 'STS-119 (2009), Soyuz MS-08 (2018)', 'STS-58 (1993), STS-76 (1996), STS-90 (1998)', 'STS-2 (1981), STS-8 (1983)', 'STS-96 (1999), STS-107 (2003)', 'STS-1 (1981), STS-7 (1983), STS-41-C (1984), STS-41-G (1984)', 'STS-85 (1997), STS-98 (2001), STS-116 (2006)', 'STS-41 (1990), STS-53 (1992), STS-65 (1994), STS-88 (1998)', 'STS-61-C (1986)', 'STS-123 (2008), STS-130 (2010), Crew Dragon Demo-2 (2020)', 'STS-41-B (1984), STS-61-C (1986), STS-27 (1988), STS-47 (1992), STS-71 (1995)', 'STS-5 (1982), STS-51-B (1985)', 'STS-9 (1983), STS-35 (1990)', 'STS-126 (2008), Soyuz MS-02 (2016)', 'STS-129 (2009)', 'STS-29 (1989), STS-38 (1990)', 'STS-41-B (1984), STS-51-J (1985)', 'STS-78 (1996), Soyuz TMA-15 (2009)', 'STS-42 (1992)', 'Soyuz TM-34 (2002), Soyuz TMA-6 (2005), STS-134 (2011)', 'STS-61-B (1985)', 'Soyuz TMA-15 (2009), Soyuz TMA-07M (2012)', 'STS-35 (1990), STS-67 (1995)', 'STS-124 (2008), Soyuz TMA-21 (2011)', 'STS-51-J (1985), STS-30 (1989), STS-42 (1992), STS-57 (1993)', 'STS-41-B (1984)', 'STS-60 (1994), STS-76 (1996)', 'Apollo 9 (1969)', 'STS-89 (1998), Soyuz TMA-5 (2004)', 'STS-7 (1983), STS-41-G (1984)', 'Soyuz TMA-15M (2014)', 'STS-112 (2002), STS-126 (2008), STS-135 (2011)', 'Soyuz TMA-02M (2011)', 'STS-90 (1998), STS-106 (2000), STS-109 (2002), STS-125 (2009)', 'Mercury-Atlas 7 (1962)', 'STS-75 (1996), STS-82 (1997), STS-101 (2000), STS-105 (2001)', 'STS-103 (1999), STS-118 (2007), Soyuz TMA-01M (2010), Soyuz TMA-16M (2015)', 'STS-66 (1994), STS-86 (1997), STS-95 (1998), STS-100 (2001), STS-120 (2007)', 'Soyuz MS-09 (2018)', 'Soyuz TM-15 (1992), Soyuz TM-22 (1995)', 'Soyuz TM-7 (1988), Soyuz TM-12 (1991), STS-60 (1994), STS-88 (1998), Soyuz TM-31 (2000), Soyuz TMA-6 (2005)', 'Soyuz TMA-04M (2012)', 'Soyuz TMA-10M (2013), Soyuz MS-05 (2017)', 'Soyuz TM-30 (2000), Soyuz TMA-1 (2002)', 'Soyuz MS-02 (2016)', 'Soyuz TMA-12 (2008), Soyuz TMA-02M (2011), Soyuz TMA-18M (2015)', 'STS-51-G (1985), STS-34 (1989), STS-43 (1991), STS-58 (1993), STS-76 (1996)', 'Soyuz TMA-19 (2010)', 'Soyuz TMA-11 (2007)', 'STS-40 (1991), STS-59 (1994)', 'Soyuz 31 (1978)', 'STS-114 (2005), Soyuz TMA-17 (2009)', 'STS-33 (1989)', 'STS-122 (2008)', 'STS-121 (2006), STS-120 (2007), STS-131 (2010)', 'STS-110 (2002), STS-122 (2008)', 'STS-126 (2008), STS-132 (2010), STS-133 (2011)', 'STS-42 (1992), STS-56 (1993), STS-67 (1995)', 'STS-85 (1997), STS-95 (1998), STS-114 (2005), STS-130 (2010)', 'STS-41-D (1984), STS-61-C (1986), STS-31 (1990), STS-82 (1997), STS-93 (1999)', 'STS-87 (1997), STS-95 (1998), STS-104 (2001), STS-121 (2006), STS-133 (2011)', 'STS-52 (1992), STS-115 (2006)', 'STS-51-G (1985), STS-61-A (1985), STS-37 (1991), STS-55 (1993)', 'STS-68 (1994), STS-82 (1997), STS-103 (1999), STS-110 (2002)', 'STS-117 (2007), STS-119 (2009), Soyuz TMA-12M (2014)', 'STS-6 (1983), STS-51-F (1985), STS-33 (1989), STS-44 (1991), STS-61 (1993), STS-80 (1996)', 'STS-116 (2006), Soyuz TMA-05M (2012)', 'STS-54 (1993), STS-64 (1994), STS-78 (1996), STS-101 (2000), STS-102 (2001)', 'Soyuz T-7 (1982), Soyuz T-12 (1984)', 'STS-87 (1997), STS-123 (2008)', 'Soyuz TM-19 (1994), Soyuz TM-27 (1998), Soyuz TM-32 (2001)', 'STS-40 (1991), STS-52 (1992), STS-67 (1995), STS-80 (1996), STS-96 (1999)', 'STS-44 (1991), STS-55 (1993), STS-70 (1995), STS-78 (1996)', 'STS-68 (1994), STS-79 (1996), STS-89 (1998), STS-106 (2000)', 'STS-130 (2010), Soyuz TMA-15M (2014)', 'STS-41 (1990), STS-49 (1992), STS-61 (1993), STS-79 (1996)', 'STS-59 (1994), STS-68 (1994), STS-80 (1996), STS-98 (2001)', 'STS-44 (1991)', 'Apollo 16 (1972), STS-4 (1982), STS-51-C (1985)', 'STS-127 (2009), Soyuz TMA-07M (2012)', 'Gemini 6A (1965), Gemini 9A (1966), Apollo 10 (1969), Apollo-Soyuz Test Project (1975)', 'Soyuz MS-03 (2016)', 'Soyuz TM-22 (1995), STS-121 (2006)', 'Soyuz TMA-17 (2009)', 'STS-127 (2009), Soyuz TMA-19M (2015)', 'Soyuz TMA-19M (2015)', 'STS-118 (2007), Soyuz TMA-18 (2010)', 'STS-9 (1983), STS-42 (1992), Soyuz TM-20 (1994)', 'STS-55 (1993)', 'STS-75 (1996), STS-100 (2001)', 'Soyuz 13 (1973), Soyuz T-5 (1982)', 'Vostok 6 (1963)', 'Soyuz 6 (1969), Soyuz 19 (1975), Soyuz 36 (1980)', 'Soyuz TM-6 (1988), Soyuz TM-18 (1994)', 'Vostok 5 (1963), Soyuz 22 (1976), Soyuz 31 (1978)', 'Soyuz TM-24 (1996), STS-111 (2002)', 'Soyuz 23 (1976)', 'Soyuz 25 (1977), Soyuz 32 (1979), Soyuz 35 (1980), STS-91 (1998)', 'STS-96 (1999), Soyuz TMA-7 (2005)', 'Apollo-Soyuz Test Project (1975), STS-5 (1982), STS-41-B (1984), STS-35 (1990)', 'Soyuz 12 (1973), Soyuz 18-1 (1975)', 'Soyuz TM-17 (1993), Soyuz TM-25 (1997)', 'Soyuz 7 (1969), Soyuz 24 (1977), Soyuz 37 (1980)', 'Soyuz TM-11 (1990), Soyuz TM-18 (1994), Soyuz TM-29 (1999), Soyuz TM-33 (2001)', 'Soyuz T-4 (1981), Soyuz T-13 (1985)', 'Mercury-Redstone 4 (1961), Gemini 3 (1965)', 'Soyuz 9 (1970), Soyuz 18 (1975)', 'Soyuz 21 (1976)', 'Soyuz 22 (1976), Soyuz T-2 (1980)', 'Soyuz 27 (1978), Soyuz 39 (1981), Soyuz T-6 (1982), Soyuz T-12 (1984), Soyuz T-13 (1985)', 'Voskhod 1 (1964), Soyuz 1 (1967)', 'Soyuz 25 (1977), Soyuz 29 (1978), Soyuz T-4 (1981)', 'Soyuz 32 (1979), Soyuz T-9 (1983), Soyuz TM-6 (1988)', 'Soyuz TM-21 (1995)', 'Soyuz 4 (1969), Soyuz 8 (1969), Soyuz 10 (1971)', 'Soyuz T-10 (1984), Soyuz T-15 (1986)', 'Soyuz T-8 (1983), Soyuz TM-4 (1987), STS-63 (1995), STS-86 (1997)', 'Soyuz T-14 (1985)', 'Soyuz 28 (1978)', 'Soyuz 7 (1969), Soyuz 11 (1971)', 'Mercury-Atlas 8 (1962), Gemini 6A (1965), Apollo 7 (1968)', 'Shenzhou 10 (2013)', 'STS-67 (1995), STS-86 (1997), STS-91 (1998), STS-114 (2005)', 'Apollo 8 (1968)', 'STS-5 (1982)', 'STS-8 (1983), STS-51-B (1985)', 'STS-51-I (1985)', 'STS-67 (1995)', 'STS-51-J (1985)', 'STS-42 (1992), STS-51 (1993), STS-79 (1996)', 'STS-58 (1993), STS-74 (1995), STS-92 (2000), Soyuz TMA-7 (2005)', 'STS-27 (1988), STS-41 (1990), STS-52 (1992), Soyuz TM-31 (2000)', 'STS-72 (1996), STS-87 (1997)', 'Shenzhou 5 (2003)', 'Soyuz TM-20 (1994), STS-84 (1997)', 'Soyuz TMA-14M (2014)', 'Soyuz 5 (1969)', 'Soyuz TMA-12 (2008)', 'Soyuz 14 (1974)', 'Soyuz TM-28 (1998), Soyuz TM-32 (2001)', 'Vostok 1 (1961)', 'Soyuz TM-22 (1995), Soyuz TM-31 (2000), Soyuz TM-34 (2002)', 'Soyuz 24 (1977)', 'STS-100 (2001), Soyuz TMA-1 (2002), Soyuz TMA-13 (2008)', 'Soyuz TM-19 (1994), STS-106 (2000), Soyuz TMA-2 (2003), Soyuz TMA-11 (2007), Soyuz TMA-05M (2012), Soyuz TMA-19M (2015)', 'Soyuz T-2 (1980), Soyuz T-11 (1984)', 'Soyuz TM-23 (1996), STS-108 (2001)', 'Soyuz 26 (1977), Soyuz 38 (1980), Soyuz TM-2 (1987)', 'Soyuz TMA-5 (2004)', 'Soyuz TM-18 (1994), Soyuz TM-23 (1996), STS-101 (2000), STS-102 (2001)']\n",
      "Столбец 'Total Flights': [1, 2, 4, 3, 5, 6, 7]\n",
      "Столбец 'Total Flight Time (ddd:hh:mm)': ['008:20:26', '140:17:26', '069:15:45', '027:21:09', '009:00:17', '015:21:52', '091:10:46', '179:01:17', '139:14:47', '174:03:25', '184:22:07', '333:11:28', '309:18:02', '331:11:23', '372:22:53', '545:16:49', '037:11:35', '007:00:32', '008:22:22', '374:19:31', '361:20:43', '769:06:35', '179:00:43', '489:01:35', '391:11:52', '012:07:11', '211:09:04', '425:14:07', '007:21:58', '144:15:21', '010:21:03', '651:00:03', '181:23:47', '337:08:56', '224:09:15', '037:16:13', '271:06:28', '177:09:14', '021:15:26', '203:15:50', '007:23:44', '203:15:16', '010:21:05', '007:22:45', '533:05:31', '007:20:43', '025:13:01', '012:17:56', '178:00:58', '018:06:08', '007:20:45', '011:20:27', '050:08:26', '010:19:10', '052:07:17', '001:00:17', '041:18:01', '022:04:52', '000:00:24', '040:17:37', '013:00:32', '013:01:27', '015:23:19', '012:01:53', '019:04:56', '029:16:14', '230:13:03', '020:00:17', '180:03:59', '049:03:38', '028:08:38', '013:21:32', '019:21:56', '011:01:51', '016:21:48', '015:22:50', '024:05:39', '035:09:26', '038:19:16', '026:14:26', '018:02:22', '032:06:29', '023:15:39', '165:16:20', '026:17:38', '328:13:58', '327:03:14', '040:10:04', '043:12:05', '025:14:24', '166:21:10', '058:15:06', '028:15:46', '014:00:53', '030:10:26', '032:23:05', '187:21:47', '226:22:15', '131:18:05', '006:23:55', '020:14:17', '022:04:33', '015:22:20', '030:04:30', '022:18:54', '169:08:58', '007:22:04', '006:23:40', '008:22:09', '159:07:18', '024:13:59', '048:15:23', '007:00:08', '009:01:28', '025:05:34', '005:00:23', '370:16:42', '043:08:13', '011:23:34', '010:20:09', '015:02:47', '092:10:38', '178:09:33', '010:22:11', '007:20:41', '009:00:01', '084:01:15', '204:22:16', '004:01:56', '036:07:10', '040:15:38', '028:14:32', '003:01:33', '028:15:34', '007:00:44', '023:14:16', '013:19:30', '143:16:19', '009:02:14', '004:19:32', '007:23:15', '019:21:35', '198:17:35', '143:14:51', '066:18:17', '007:22:12', '005:22:54', '018:23:05', '018:03:09', '051:09:35', '672:20:40', '029:18:07', '107:03:16', '309:21:19', '002:00:12', '878:11:29', '268:22:26', '028:20:31', '017:02:44', '003:22:50', '023:21:21', '134:20:32', '001:23:01', '004:22:42', '011:05:40', '001:01:18', '000:00:01', '012:21:37', '198:18:01', '031:11:50', '034:02:00', '019:15:57', '009:21:14', '165:08:00', '028:16:35', '013:08:10', '010:21:17', '022:18:02', '012:13:51', '007:21:01', '027:15:36', '007:21:13', '020:02:50', '011:19:14', '007:21:56', '145:04:14', '135:18:08', '067:11:13', '014:01:57', '013:22:21', '020:10:24', '035:10:33', '043:10:09', '052:10:32', '026:17:23', '014:02:57', '014:01:53', '015:21:50', '202:05:29', '068:08:29', '033:20:07', '049:03:51', '029:02:05', '044:11:18', '209:12:25', '027:16:19', '050:11:54', '534:02:47', '035:07:11', '058:00:53', '143:02:50', '204:15:19', '029:19:04', '047:18:19', '012:20:44', '008:19:47', '009:08:30', '161:02:48', '034:09:53', '027:17:05', '013:04:02', '009:02:39', '059:15:05', '014:18:48', '020:02:23', '016:20:24', '203:17:23', '034:18:41', '008:05:23', '000:00:22', '028:00:49', '305:00:35', '013:01:59', '043:13:15', '013:20:54', '006:00:57', '025:07:58', '007:20:42', '031:14:54', '180:00:30', '016:02:03', '115:02:22', '029:15:58', '022:04:49', '040:17:15', '212:14:12', '064:12:27', '023:10:11', '025:12:42', '013:15:37', '066:22:56', '157:13:13', '052:18:22', '029:10:23', '141:16:09', '175:02:51', '347:08:32', '009:20:00', '009:09:15', '026:15:41', '010:19:42', '023:13:38', '015:16:34', '374:17:58', '200:14:45', '229:08:40', '038:06:15', '012:18:36', '002:20:26', '012:15:23', '019:06:12', '016:02:04', '366:16:42', '068:21:32', '007:22:30', '334:12:09', '019:04:10', '029:02:00', '009:21:18', '022:23:07', '010:09:27', '032:21:53', '054:02:05', '041:10:49', '009:21:25', '167:05:13', '055:21:49', '014:00:12', '018:18:29', '010:22:01', '015:17:40', '040:03:04', '019:07:57', '011:02:05', '381:15:09', '374:17:17', '026:13:28', '193:19:03', '043:07:01', '033:11:01', '004:23:39', '258:22:46', '023:19:48', '000:00:49', '024:18:08', '211:11:47', '027:18:25', '166:06:25', '024:16:06', '018:17:45', '516:10:01', '532:02:52', '007:22:02', '007:23:04', '541:00:29', '041:15:33', '028:02:06', '008:14:00', '026:14:52', '202:15:45', '026:15:58', '445:01:26', '009:21:10', '019:10:01', '168:05:18', '140:13:27', '364:23:05', '236:22:49', '736:18:43', '526:05:03', '020:17:43', '340:10:12', '536:03:48', '069:17:56', '038:20:04', '313:02:37', '007:01:38', '039:14:18', '028:15:24', '012:19:51', '033:01:13', '001:02:02', '018:16:26', '546:22:32', '018:18:46', '665:22:27', '044:08:10', '078:18:18', '013:20:35', '027:08:53', '035:09:04', '007:21:40', '149:12:13', '019:16:34', '036:08:32', '030:02:22', '011:20:36', '013:03:53', '032:00:35', '059:12:02', '226:13:37', '014:20:20', '033:21:30', '026:21:10', '208:13:30', '039:03:18', '008:07:21', '025:13:33', '023:13:48', '037:14:31', '037:22:41', '006:02:03', '093:11:45', '036:04:18', '012:02:23', '019:05:52', '188:23:45', '010:19:16', '009:21:33', '012:01:00', '204:18:30', '008:01:14', '035:12:25', '006:21:04', '333:11:00', '025:14:13', '177:23:54', '026:03:40', '017:12:25', '010:01:00', '201:14:49', '014:07:47', '199:16:42', '157:08:44', '167:06:14', '050:12:48', '000:04:56', '047:10:38', '521:10:33', '058:15:33', '196:12:43', '367:23:23', '803:09:39', '124:23:51', '304:23:22', '184:22:15', '083:16:35', '173:03:15', '547:22:22', '223:02:52', '163:07:11', '010:21:13', '020:08:04', '007:20:49', '177:03:05', '005:00:06', '012:18:22', '042:23:47', '023:14:04', '033:22:31', '048:09:51', '032:02:42', '062:22:34', '021:14:06', '030:01:36', '041:00:17', '195:20:47', '053:09:57', '321:17:15', '210:23:07', '019:17:07', '031:10:46', '341:09:48', '062:19:29', '042:18:38', '041:00:02', '213:10:50', '034:00:44', '053:00:49', '006:22:50', '021:04:33', '161:07:03', '021:03:43', '196:17:53', '350:05:35', '163:05:33', '244:01:01', '185:22:11', '188:19:15', '049:20:38', '009:23:40', '027:15:11', '219:06:00', '002:22:50', '018:17:58', '678:16:33', '020:17:48', '381:15:41', '002:00:06', '371:17:25', '199:11:06', '031:02:03', '001:23:36', '381:15:53', '030:12:49', '555:18:34', '242:21:28', '000:05:08', '080:16:19', '049:06:23', '011:20:11', '145:15:58', '002:03:04', '216:09:09', '333:07:48', '115:08:43', '009:21:57', '361:22:50', '388:00:45', '064:21:52', '007:22:16', '028:20:02', '012:07:13', '014:14:28', '052:03:55', '006:03:00', '005:02:14', '013:01:17', '007:02:17', '016:15:08', '004:01:44', '028:00:44', '224:22:19', '159:05:55', '024:14:34', '000:21:22', '178:09:41', '167:05:42', '001:23:45', '015:17:30', '019:17:45', '000:01:48', '329:22:47', '017:17:27', '200:18:39', '826:09:22', '011:20:00', '389:14:46', '430:18:21', '009:21:29', '552:22:24']\n"
     ]
    }
   ],
   "source": [
    "# Создание справочника уникальных значений для каждого столбца\n",
    "unique_values_dict = {col: data[col].unique().tolist() for col in data.columns}\n",
    "\n",
    "# Вывод справочника\n",
    "for col, unique_values in unique_values_dict.items():\n",
    "    print(f\"Столбец '{col}': {unique_values}\")"
   ]
  },
  {
   "cell_type": "code",
   "execution_count": null,
   "metadata": {
    "colab": {
     "base_uri": "https://localhost:8080/"
    },
    "executionInfo": {
     "elapsed": 317,
     "status": "ok",
     "timestamp": 1729105264553,
     "user": {
      "displayName": "Tatsiana Vladykina",
      "userId": "08995857403999975504"
     },
     "user_tz": -180
    },
    "id": "X7GBZ4je896x",
    "outputId": "6afebf3e-73fa-4e33-a175-36bb5db7915a"
   },
   "outputs": [
    {
     "name": "stdout",
     "output_type": "stream",
     "text": [
      "                   Name        Country Gender               Flights  \\\n",
      "0    Abdul Ahad Mohmand    Afghanistan    Man     Soyuz TM-6 (1988)   \n",
      "1       Akihiko Hoshide          Japan    Man        STS-124 (2008)   \n",
      "1       Akihiko Hoshide          Japan    Man  Soyuz TMA-05M (2012)   \n",
      "2             Alan Bean  United States    Man      Apollo 12 (1969)   \n",
      "2             Alan Bean  United States    Man       Skylab 3 (1973)   \n",
      "..                  ...            ...    ...                   ...   \n",
      "564        Yury Usachov         Russia    Man    Soyuz TM-23 (1996)   \n",
      "564        Yury Usachov         Russia    Man        STS-101 (2000)   \n",
      "564        Yury Usachov         Russia    Man        STS-102 (2001)   \n",
      "565        Zhai Zhigang          China    Man     Shenzhou 7 (2008)   \n",
      "566     Zhang Xiaoguang          China    Man    Shenzhou 10 (2013)   \n",
      "\n",
      "     Total Flights Total Flight Time (ddd:hh:mm)  \n",
      "0                1                     008:20:26  \n",
      "1                2                     140:17:26  \n",
      "1                2                     140:17:26  \n",
      "2                2                     069:15:45  \n",
      "2                2                     069:15:45  \n",
      "..             ...                           ...  \n",
      "564              4                     552:22:24  \n",
      "564              4                     552:22:24  \n",
      "564              4                     552:22:24  \n",
      "565              1                     002:20:26  \n",
      "566              1                     014:14:28  \n",
      "\n",
      "[1280 rows x 6 columns]\n"
     ]
    }
   ],
   "source": [
    "# Разделение значений в столбце Flights\n",
    "data['Flights'] = data['Flights'].str.split(', ')\n",
    "\n",
    "# Преобразование DataFrame с использованием explode\n",
    "data = data.explode('Flights')\n",
    "\n",
    "# Вывод результата\n",
    "print(data)"
   ]
  },
  {
   "cell_type": "code",
   "execution_count": null,
   "metadata": {
    "colab": {
     "base_uri": "https://localhost:8080/"
    },
    "executionInfo": {
     "elapsed": 298,
     "status": "ok",
     "timestamp": 1729105266809,
     "user": {
      "displayName": "Tatsiana Vladykina",
      "userId": "08995857403999975504"
     },
     "user_tz": -180
    },
    "id": "j0tDxDyE-BqO",
    "outputId": "4df33fa5-7440-4531-ffa2-079de1bbb480"
   },
   "outputs": [
    {
     "name": "stdout",
     "output_type": "stream",
     "text": [
      "                   Name        Country Gender        Flights  Total Flights  \\\n",
      "0    Abdul Ahad Mohmand    Afghanistan    Man     Soyuz TM-6              1   \n",
      "1       Akihiko Hoshide          Japan    Man        STS-124              2   \n",
      "1       Akihiko Hoshide          Japan    Man  Soyuz TMA-05M              2   \n",
      "2             Alan Bean  United States    Man      Apollo 12              2   \n",
      "2             Alan Bean  United States    Man       Skylab 3              2   \n",
      "..                  ...            ...    ...            ...            ...   \n",
      "564        Yury Usachov         Russia    Man    Soyuz TM-23              4   \n",
      "564        Yury Usachov         Russia    Man        STS-101              4   \n",
      "564        Yury Usachov         Russia    Man        STS-102              4   \n",
      "565        Zhai Zhigang          China    Man     Shenzhou 7              1   \n",
      "566     Zhang Xiaoguang          China    Man    Shenzhou 10              1   \n",
      "\n",
      "    Total Flight Time (ddd:hh:mm)  Year  \n",
      "0                       008:20:26  1988  \n",
      "1                       140:17:26  2008  \n",
      "1                       140:17:26  2012  \n",
      "2                       069:15:45  1969  \n",
      "2                       069:15:45  1973  \n",
      "..                            ...   ...  \n",
      "564                     552:22:24  1996  \n",
      "564                     552:22:24  2000  \n",
      "564                     552:22:24  2001  \n",
      "565                     002:20:26  2008  \n",
      "566                     014:14:28  2013  \n",
      "\n",
      "[1280 rows x 7 columns]\n"
     ]
    }
   ],
   "source": [
    "# Создание нового столбца Year\n",
    "data['Year'] = data['Flights'].str.extract(r'\\((\\d{4})\\)')\n",
    "\n",
    "# Удаление года из столбца Flights\n",
    "data['Flights'] = data['Flights'].str.replace(r' \\(\\d{4}\\)', '', regex=True)\n",
    "\n",
    "print(data)"
   ]
  },
  {
   "cell_type": "code",
   "execution_count": null,
   "metadata": {
    "colab": {
     "base_uri": "https://localhost:8080/"
    },
    "executionInfo": {
     "elapsed": 293,
     "status": "ok",
     "timestamp": 1729105269330,
     "user": {
      "displayName": "Tatsiana Vladykina",
      "userId": "08995857403999975504"
     },
     "user_tz": -180
    },
    "id": "u2uW_g5FBdZl",
    "outputId": "6c79b065-eab1-4706-ef83-ed54bbeedc3e"
   },
   "outputs": [
    {
     "name": "stdout",
     "output_type": "stream",
     "text": [
      "Index(['Name', 'Country', 'Gender', 'Flights', 'Total Flights',\n",
      "       'Total Flight Time (ddd:hh:mm)', 'Year'],\n",
      "      dtype='object')\n"
     ]
    }
   ],
   "source": [
    "# Вывод названий всех столбцов\n",
    "print(data.columns)"
   ]
  },
  {
   "cell_type": "code",
   "execution_count": null,
   "metadata": {
    "colab": {
     "base_uri": "https://localhost:8080/"
    },
    "executionInfo": {
     "elapsed": 366,
     "status": "ok",
     "timestamp": 1729105271391,
     "user": {
      "displayName": "Tatsiana Vladykina",
      "userId": "08995857403999975504"
     },
     "user_tz": -180
    },
    "id": "y31mKjgBHDkE",
    "outputId": "4a437c1d-1df5-4201-e781-1f643fe38b60"
   },
   "outputs": [
    {
     "name": "stdout",
     "output_type": "stream",
     "text": [
      "Transformed DataFrame saved to /content/drive/My Drive/DS_Belhard/for_hw_3/Main_table.csv\n",
      "Dictionary for Name saved to /content/drive/My Drive/DS_Belhard/for_hw_3/Name_dictionary.csv\n",
      "                   Name  Index\n",
      "0    Abdul Ahad Mohmand      0\n",
      "1       Akihiko Hoshide      1\n",
      "2             Alan Bean      2\n",
      "3    Alan G. Poindexter      3\n",
      "4          Alan Shepard      4\n",
      "..                  ...    ...\n",
      "562      Yuri Romanenko    562\n",
      "563        Yuri Shargin    563\n",
      "564        Yury Usachov    564\n",
      "565        Zhai Zhigang    565\n",
      "566     Zhang Xiaoguang    566\n",
      "\n",
      "[567 rows x 2 columns]\n",
      "\n",
      "\n",
      "Dictionary for Country saved to /content/drive/My Drive/DS_Belhard/for_hw_3/Country_dictionary.csv\n",
      "                 Country  Index\n",
      "0            Afghanistan      0\n",
      "1                  Japan      1\n",
      "2          United States      2\n",
      "3               Bulgaria      3\n",
      "4           Soviet Union      4\n",
      "5                 Russia      5\n",
      "6                Germany      6\n",
      "7                Denmark      7\n",
      "8            Netherlands      8\n",
      "9                   Iran      9\n",
      "10                  Cuba     10\n",
      "11            Kazakhstan     11\n",
      "12               Hungary     12\n",
      "13                Canada     13\n",
      "14                  Peru     14\n",
      "15                 China     15\n",
      "16                Sweden     16\n",
      "17           Switzerland     17\n",
      "18                France     18\n",
      "19               Belgium     19\n",
      "20               Romania     20\n",
      "21                 Italy     21\n",
      "22               Austria     22\n",
      "23  United Arab Emirates     23\n",
      "24        United Kingdom     24\n",
      "25                Israel     25\n",
      "26              Slovakia     26\n",
      "27              Mongolia     27\n",
      "28               Ukraine     28\n",
      "29                Brazil     29\n",
      "30          South Africa     30\n",
      "31                Poland     31\n",
      "32                 Syria     32\n",
      "33                 Spain     33\n",
      "34               Vietnam     34\n",
      "35                 India     35\n",
      "36                Mexico     36\n",
      "37              Malaysia     37\n",
      "38          East Germany     38\n",
      "39          Saudi Arabia     39\n",
      "40        Czechoslovakia     40\n",
      "41           South Korea     41\n",
      "\n",
      "\n",
      "Dictionary for Gender saved to /content/drive/My Drive/DS_Belhard/for_hw_3/Gender_dictionary.csv\n",
      "  Gender  Index\n",
      "0    Man      0\n",
      "1  Woman      1\n",
      "\n",
      "\n",
      "Dictionary for Flights saved to /content/drive/My Drive/DS_Belhard/for_hw_3/Flights_dictionary.csv\n",
      "             Flights  Index\n",
      "0         Soyuz TM-6      0\n",
      "1            STS-124      1\n",
      "2      Soyuz TMA-05M      2\n",
      "3          Apollo 12      3\n",
      "4           Skylab 3      4\n",
      "..               ...    ...\n",
      "322          Soyuz 4    322\n",
      "323  Mercury-Atlas 8    323\n",
      "324       Shenzhou 5    324\n",
      "325         Vostok 1    325\n",
      "326      Soyuz TM-23    326\n",
      "\n",
      "[327 rows x 2 columns]\n",
      "\n",
      "\n",
      "Transformed DataFrame:\n",
      "     Name  Country  Gender  Flights  Total Flights  \\\n",
      "0       0        0       0        0              1   \n",
      "1       1        1       0        1              2   \n",
      "1       1        1       0        2              2   \n",
      "2       2        2       0        3              2   \n",
      "2       2        2       0        4              2   \n",
      "..    ...      ...     ...      ...            ...   \n",
      "564   564        5       0      326              4   \n",
      "564   564        5       0      249              4   \n",
      "564   564        5       0       71              4   \n",
      "565   565       15       0      254              1   \n",
      "566   566       15       0      288              1   \n",
      "\n",
      "    Total Flight Time (ddd:hh:mm)  Year  \n",
      "0                       008:20:26  1988  \n",
      "1                       140:17:26  2008  \n",
      "1                       140:17:26  2012  \n",
      "2                       069:15:45  1969  \n",
      "2                       069:15:45  1973  \n",
      "..                            ...   ...  \n",
      "564                     552:22:24  1996  \n",
      "564                     552:22:24  2000  \n",
      "564                     552:22:24  2001  \n",
      "565                     002:20:26  2008  \n",
      "566                     014:14:28  2013  \n",
      "\n",
      "[1280 rows x 7 columns]\n"
     ]
    }
   ],
   "source": [
    "import pandas as pd\n",
    "import os\n",
    "\n",
    "# Указанные столбцы\n",
    "columns_to_encode = ['Name', 'Country', 'Gender', 'Flights']\n",
    "\n",
    "# Создание словарей только для указанных категориальных столбцов\n",
    "dictionaries = {}\n",
    "for column in columns_to_encode:\n",
    "    unique_values = data[column].unique()\n",
    "    dictionaries[column] = {value: idx for idx, value in enumerate(unique_values)}\n",
    "\n",
    "# Замена значений в основном DataFrame на ключи из словарей\n",
    "for column in columns_to_encode:\n",
    "    data[column] = data[column].map(dictionaries[column])\n",
    "\n",
    "# Сохранение преобразованного DataFrame\n",
    "transformed_df_path = '/content/drive/My Drive/DS_Belhard/for_hw_3/Main_table.csv'\n",
    "data.to_csv(transformed_df_path, index=False)\n",
    "print(f\"Transformed DataFrame saved to {transformed_df_path}\")\n",
    "\n",
    "# Путь к папке на Google Диске\n",
    "save_path = '/content/drive/My Drive/DS_Belhard/for_hw_3'\n",
    "\n",
    "# Создание папки, если она не существует\n",
    "os.makedirs(save_path, exist_ok=True)\n",
    "\n",
    "# Сохранение DataFrame для каждого словаря на Google Диск\n",
    "for column in columns_to_encode:\n",
    "    dict_df = pd.DataFrame(list(dictionaries[column].items()), columns=[column, 'Index'])\n",
    "    dict_df.to_csv(f'{save_path}/{column}_dictionary.csv', index=False)\n",
    "    print(f\"Dictionary for {column} saved to {save_path}/{column}_dictionary.csv\")\n",
    "    print(dict_df)\n",
    "    print(\"\\n\")\n",
    "\n",
    "print(\"Transformed DataFrame:\")\n",
    "print(data)"
   ]
  },
  {
   "cell_type": "markdown",
   "metadata": {
    "id": "QmZx6E4l626D"
   },
   "source": [
    "Таким образом, схема проектируемой БД :"
   ]
  },
  {
   "cell_type": "markdown",
   "metadata": {
    "id": "Nq7polWRlqz_"
   },
   "source": [
    "![image.png](data:image/png;base64,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)"
   ]
  }
 ],
 "metadata": {
  "colab": {
   "authorship_tag": "ABX9TyNfsg1Sz+LWTcM88fYQbs4w",
   "provenance": []
  },
  "kernelspec": {
   "display_name": "Python 3 (ipykernel)",
   "language": "python",
   "name": "python3"
  },
  "language_info": {
   "codemirror_mode": {
    "name": "ipython",
    "version": 3
   },
   "file_extension": ".py",
   "mimetype": "text/x-python",
   "name": "python",
   "nbconvert_exporter": "python",
   "pygments_lexer": "ipython3",
   "version": "3.10.10"
  }
 },
 "nbformat": 4,
 "nbformat_minor": 4
}
