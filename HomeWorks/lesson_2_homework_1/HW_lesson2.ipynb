{
 "nbformat": 4,
 "nbformat_minor": 0,
 "metadata": {
  "colab": {
   "provenance": [],
   "authorship_tag": "ABX9TyPZ+59dQY9EbmApsREW7kt9"
  },
  "kernelspec": {
   "name": "python3",
   "display_name": "Python 3"
  },
  "language_info": {
   "name": "python"
  }
 },
 "cells": [
  {
   "cell_type": "markdown",
   "source": [
    "ДЗ урок 2. Вариант 10.\n",
    "\n",
    "Необходимо написать код на Python и оценить сложность алгоритма О(N):\n",
    "\n",
    "Создать список и добавить в него 5 различных элементов. Вывести содержимое списка на экран."
   ],
   "metadata": {
    "id": "aO3ugpX09uZL"
   }
  },
  {
   "cell_type": "code",
   "source": [
    "# Создаем пустой список\n",
    "my_list = []\n",
    "\n",
    "# Добавляем 5 различных элементов\n",
    "my_list.append(1)\n",
    "my_list.append(\"hello\")\n",
    "my_list.append(3.14)\n",
    "my_list.append(True)\n",
    "my_list.append([1, 2, 3])\n",
    "\n",
    "# Выводим содержимое списка на экран\n",
    "print(\"Содержимое списка:\", my_list)"
   ],
   "metadata": {
    "colab": {
     "base_uri": "https://localhost:8080/"
    },
    "id": "3sUTtGe6-DhA",
    "executionInfo": {
     "status": "ok",
     "timestamp": 1725955670001,
     "user_tz": -180,
     "elapsed": 622,
     "user": {
      "displayName": "Tatsiana Vladykina",
      "userId": "08995857403999975504"
     }
    },
    "outputId": "8a6ad396-124c-4b3d-d5fa-3a5f572409d0"
   },
   "execution_count": null,
   "outputs": [
    {
     "output_type": "stream",
     "name": "stdout",
     "text": [
      "Содержимое списка: [1, 'hello', 3.14, True, [1, 2, 3]]\n"
     ]
    }
   ]
  },
  {
   "cell_type": "markdown",
   "source": [
    "Чтобы оценить сложность алгоритма, нужно проанализировать, сколько операций выполняется в зависимости от размера входных данных.\n",
    "\n",
    "Создание пустого списка: my_list = [] - этаоперация выполняется за постоянное время, O(1).\n",
    "\n",
    "Добавление 5 различных элементов в список: каждая операция append выполняется за постоянное время, O(1). Поскольку добавляется 5 элементов, общая сложность будет O(5).\n",
    "\n",
    "Вывод содержимого списка на экран: print(\"Содержимое списка:\", my_list) - сложность этой операции зависит от количества элементов в списке. В худшем случае, это O(N), где N - количество элементов в списке.\n",
    "\n",
    "Таким образом, общая сложность алгоритма будет O(N), где N - количество элементов в списке."
   ],
   "metadata": {
    "id": "eBSHVyQ7LJum"
   }
  },
  {
   "cell_type": "code",
   "source": [
    "# Вывод формата элементов списка\n",
    "for element in my_list:\n",
    "    print(f\"Элемент: {element}, Тип: {type(element)}\")"
   ],
   "metadata": {
    "colab": {
     "base_uri": "https://localhost:8080/"
    },
    "id": "4_2GpT5t-oOK",
    "executionInfo": {
     "status": "ok",
     "timestamp": 1725955756710,
     "user_tz": -180,
     "elapsed": 317,
     "user": {
      "displayName": "Tatsiana Vladykina",
      "userId": "08995857403999975504"
     }
    },
    "outputId": "1921bdad-a360-49df-8c39-276add0bf0a1"
   },
   "execution_count": null,
   "outputs": [
    {
     "output_type": "stream",
     "name": "stdout",
     "text": [
      "Элемент: 1, Тип: <class 'int'>\n",
      "Элемент: hello, Тип: <class 'str'>\n",
      "Элемент: 3.14, Тип: <class 'float'>\n",
      "Элемент: True, Тип: <class 'bool'>\n",
      "Элемент: [1, 2, 3], Тип: <class 'list'>\n"
     ]
    }
   ]
  }
 ]
}
